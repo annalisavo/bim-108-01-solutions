{
 "cells": [
  {
   "cell_type": "markdown",
   "metadata": {
    "deletable": false
   },
   "source": [
    "# RDF: Fortgeschrittene Themen"
   ]
  },
  {
   "cell_type": "markdown",
   "metadata": {
    "deletable": false
   },
   "source": [
    "In dieser Übung werden wir uns einige fortgeschrittene Themen etwas genauer in der Praxis anschauen, insb. Datentypen, der *language tag*, Listen und Reifizierung in RDF. Wir beginnen mit Datetypen. Führen Sie den folgenden Codeblock aus."
   ]
  },
  {
   "cell_type": "code",
   "execution_count": 2,
   "metadata": {
    "deletable": false
   },
   "outputs": [
    {
     "name": "stdout",
     "output_type": "stream",
     "text": [
      "Requirement already satisfied: rdflib in c:\\users\\uni\\anaconda3\\lib\\site-packages\n",
      "Requirement already satisfied: isodate in c:\\users\\uni\\anaconda3\\lib\\site-packages (from rdflib)\n",
      "Requirement already satisfied: pyparsing in c:\\users\\uni\\anaconda3\\lib\\site-packages (from rdflib)\n",
      "Requirement already satisfied: six in c:\\users\\uni\\anaconda3\\lib\\site-packages (from isodate->rdflib)\n"
     ]
    },
    {
     "name": "stderr",
     "output_type": "stream",
     "text": [
      "You are using pip version 9.0.1, however version 10.0.1 is available.\n",
      "You should consider upgrading via the 'python -m pip install --upgrade pip' command.\n"
     ]
    },
    {
     "name": "stdout",
     "output_type": "stream",
     "text": [
      "Requirement already satisfied: shortid in c:\\users\\uni\\anaconda3\\lib\\site-packages\n"
     ]
    },
    {
     "name": "stderr",
     "output_type": "stream",
     "text": [
      "You are using pip version 9.0.1, however version 10.0.1 is available.\n",
      "You should consider upgrading via the 'python -m pip install --upgrade pip' command.\n"
     ]
    }
   ],
   "source": [
    "!pip install rdflib\n",
    "!pip install shortid"
   ]
  },
  {
   "cell_type": "code",
   "execution_count": 5,
   "metadata": {
    "deletable": false
   },
   "outputs": [],
   "source": [
    "from rdflib import Graph, Literal, Namespace, BNode\n",
    "from rdflib.namespace import XSD\n",
    "\n",
    "def eq(l1, l2):\n",
    "    print(l1.eq(l2))"
   ]
  },
  {
   "cell_type": "markdown",
   "metadata": {
    "deletable": false
   },
   "source": [
    "Nun schauen Sie sich die folgende Literalvergleiche an und erklären Sie warum das Ergebnis wahr oder falsch ist."
   ]
  },
  {
   "cell_type": "code",
   "execution_count": 4,
   "metadata": {
    "deletable": false
   },
   "outputs": [
    {
     "name": "stdout",
     "output_type": "stream",
     "text": [
      "True\n"
     ]
    }
   ],
   "source": [
    "eq(Literal('1973'), Literal('1973'))\n",
    "# Erklärung: Die beiden Literale stimmen überein"
   ]
  },
  {
   "cell_type": "code",
   "execution_count": 5,
   "metadata": {
    "deletable": false
   },
   "outputs": [
    {
     "name": "stdout",
     "output_type": "stream",
     "text": [
      "False\n"
     ]
    }
   ],
   "source": [
    "eq(Literal('1973'), Literal('1979')) \n",
    "# Erklärung: Das Literal '1973' ist ungleich '1979'"
   ]
  },
  {
   "cell_type": "code",
   "execution_count": 6,
   "metadata": {
    "deletable": false
   },
   "outputs": [
    {
     "name": "stdout",
     "output_type": "stream",
     "text": [
      "False\n"
     ]
    }
   ],
   "source": [
    "eq(Literal('1973'), Literal('1973', datatype=XSD.int)) \n",
    "# Erklärung: Das erste Literal wird als String behandelt, das zweite als integer, somit nicht gleich, denn ein andere Datentyp liegt vor"
   ]
  },
  {
   "cell_type": "code",
   "execution_count": 7,
   "metadata": {
    "deletable": false
   },
   "outputs": [
    {
     "name": "stdout",
     "output_type": "stream",
     "text": [
      "True\n"
     ]
    }
   ],
   "source": [
    "eq(Literal('1973', datatype=XSD.integer), Literal('1973', datatype=XSD.int)) \n",
    "# Erklärung: 'Integer' und 'int' bedeuten das gleiche"
   ]
  },
  {
   "cell_type": "code",
   "execution_count": 8,
   "metadata": {
    "deletable": false
   },
   "outputs": [
    {
     "name": "stdout",
     "output_type": "stream",
     "text": [
      "True\n"
     ]
    }
   ],
   "source": [
    "eq(Literal('1973', datatype=XSD.integer), Literal('1973', datatype=XSD.float)) \n",
    "# Erklärung: 'float' ist eine Unterart von 'integer' und somit der gleiche Datentyp"
   ]
  },
  {
   "cell_type": "code",
   "execution_count": 9,
   "metadata": {
    "deletable": false
   },
   "outputs": [
    {
     "name": "stdout",
     "output_type": "stream",
     "text": [
      "False\n"
     ]
    }
   ],
   "source": [
    "eq(Literal('1973', datatype=XSD.integer), Literal('1973', datatype=XSD.gYear)) \n",
    "# Erklärung: Das zweite '1973' ist ein anderer Datentyp als das erste"
   ]
  },
  {
   "cell_type": "markdown",
   "metadata": {
    "deletable": false
   },
   "source": [
    "Untypisierte Literale können auch einen sogenannten *language tag* enthalten.\n",
    "\n",
    "Schauen Sie sich die folgenden Literalvergleiche an und erklären Sie warum das Ergebnis wahr oder falsch ist."
   ]
  },
  {
   "cell_type": "code",
   "execution_count": 10,
   "metadata": {
    "deletable": false
   },
   "outputs": [
    {
     "name": "stdout",
     "output_type": "stream",
     "text": [
      "True\n"
     ]
    }
   ],
   "source": [
    "eq(Literal('The Wall'), Literal('The Wall'))\n",
    "# Erklärung: Die beiden Literale bedeuten das selbe"
   ]
  },
  {
   "cell_type": "code",
   "execution_count": 17,
   "metadata": {
    "deletable": false
   },
   "outputs": [
    {
     "name": "stdout",
     "output_type": "stream",
     "text": [
      "False\n"
     ]
    }
   ],
   "source": [
    "eq(Literal('The Wall'), Literal('The Dark Side of the Moon'))\n",
    "# Erklärung: Das erste Literal ist ungleich dem zweiten"
   ]
  },
  {
   "cell_type": "code",
   "execution_count": 11,
   "metadata": {
    "deletable": false
   },
   "outputs": [
    {
     "name": "stdout",
     "output_type": "stream",
     "text": [
      "False\n"
     ]
    }
   ],
   "source": [
    "eq(Literal('The Wall'), Literal('The Wall', lang='en'))\n",
    "# Erklärung: Dem ersten Literal wurde keine 'language' zugeordnet, dem zweiten schon. Somit sind die Literale nicht gleich"
   ]
  },
  {
   "cell_type": "code",
   "execution_count": 12,
   "metadata": {
    "deletable": false
   },
   "outputs": [
    {
     "name": "stdout",
     "output_type": "stream",
     "text": [
      "True\n"
     ]
    }
   ],
   "source": [
    "eq(Literal('The Wall', lang='en'), Literal('The Wall', lang='en'))\n",
    "# Erklärung: Beiden Literalen wurden die gleichen Sprachen zugeordnet, und somit sind sie gleich. "
   ]
  },
  {
   "cell_type": "code",
   "execution_count": 13,
   "metadata": {
    "deletable": false
   },
   "outputs": [
    {
     "name": "stdout",
     "output_type": "stream",
     "text": [
      "False\n"
     ]
    }
   ],
   "source": [
    "eq(Literal('The Wall', lang='en'), Literal('The Wall', lang='de'))\n",
    "# Erklärung: Dem ersten Literal wurde eine andere Sprache zugeordnet, als dem zweiten. Somit sind sie ungleich"
   ]
  },
  {
   "cell_type": "markdown",
   "metadata": {
    "deletable": false
   },
   "source": [
    "Schauen Sie sich die folgenden RDF Graphen an und erklären Sie wie es zur unterschiedlichen Grösse kommt."
   ]
  },
  {
   "cell_type": "code",
   "execution_count": 6,
   "metadata": {
    "deletable": false
   },
   "outputs": [
    {
     "name": "stdout",
     "output_type": "stream",
     "text": [
      "Länge g0: 1 Tripel\n",
      "Länge g1: 2 Tripel\n",
      "Länge g2: 1 Tripel\n",
      "Länge g3: 2 Tripel\n",
      "Länge g4: 2 Tripel\n",
      "Länge g5: 1 Tripel\n"
     ]
    }
   ],
   "source": [
    "s = BNode()\n",
    "p = BNode()\n",
    "\n",
    "g0 = Graph()\n",
    "g0.add((s, p, Literal('The Wall')))\n",
    "g0.add((s, p, Literal('The Wall')))\n",
    "\n",
    "print('Länge g0: {} Tripel'.format(len(g0))) # Erklärung: Da beide statements die selben Ojbecte haben, zählen sie nur als ein Statement\n",
    "\n",
    "g1 = Graph()\n",
    "g1.add((s, p, Literal('The Wall', lang='en')))\n",
    "g1.add((s, p, Literal('The Wall', lang='de')))\n",
    "\n",
    "print('Länge g1: {} Tripel'.format(len(g1))) # Erklärung: Den Objecten wurden unterschiedliche Sprachen zugeordnet, sind somit auch ungleich und zählen als jeweils als eigenes Object\n",
    "\n",
    "g2 = Graph()\n",
    "g2.add((s, p, Literal('The Wall', lang='en')))\n",
    "g2.add((s, p, Literal('The Wall', lang='en')))\n",
    "\n",
    "print('Länge g2: {} Tripel'.format(len(g2))) # Erklärung: Den Objecten wurde die gleiche Sprache zugeordnet und sind somit in der Bedeutung gleich und werden dann nur als ein Object gezählt.\n",
    "\n",
    "g3 = Graph()\n",
    "g3.add((s, p, Literal('The Wall')))\n",
    "g3.add((s, p, Literal('The Dark Side of the Moon')))\n",
    "\n",
    "print('Länge g3: {} Tripel'.format(len(g3))) # Erklärung: Zwei unterschiedliche Objecte und somit zwei Statements.\n",
    "\n",
    "g4 = Graph()\n",
    "g4.add((s, p, Literal('1979')))\n",
    "g4.add((s, p, Literal('1979', datatype=XSD.int)))\n",
    "\n",
    "print('Länge g4: {} Tripel'.format(len(g4))) # Erklärung: Hier auch zwei unterschiedliche Objecte mit unterschiedlichen Bedeutungen und somit zwei Statements.\n",
    "\n",
    "g5 = Graph()\n",
    "g5.add((s, p, Literal('1973', datatype=XSD.int)))\n",
    "g5.add((s, p, Literal('1973', datatype=XSD.int)))\n",
    "\n",
    "print('Länge g5: {} Tripel'.format(len(g5))) # Erklärung: Zwei gleiche Objcte mit gleicher Bedeutung und somit nur ein Statement."
   ]
  },
  {
   "cell_type": "markdown",
   "metadata": {
    "deletable": false
   },
   "source": [
    "Vervollständigen Sie nun das RDF mit Datentypen und einem *language tag* für Titel, und überprüfen Sie ob das RDF fehlerfrei ist."
   ]
  },
  {
   "cell_type": "code",
   "execution_count": 7,
   "metadata": {
    "deletable": false
   },
   "outputs": [
    {
     "ename": "BadSyntax",
     "evalue": "at line 11 of <>:\nBad syntax (expected '.' or '}' or ']' at end of statement) at ^ in:\n\"...b' des Mondes\"@literal ;\\n    ex:label \"Harvest, EMI\"^^xsd:lang'^b'=\"eng\" ;\\n    ex:released [ \\n      ex:day \"16\"^^xsd:decimal ;'...\"",
     "output_type": "error",
     "traceback": [
      "Traceback \u001b[1;36m(most recent call last)\u001b[0m:\n",
      "  File \u001b[0;32m\"C:\\Users\\Uni\\Anaconda3\\lib\\site-packages\\IPython\\core\\interactiveshell.py\"\u001b[0m, line \u001b[0;32m2910\u001b[0m, in \u001b[0;35mrun_code\u001b[0m\n    exec(code_obj, self.user_global_ns, self.user_ns)\n",
      "  File \u001b[0;32m\"<ipython-input-7-756d1ae0fa5d>\"\u001b[0m, line \u001b[0;32m23\u001b[0m, in \u001b[0;35m<module>\u001b[0m\n    r = g.parse(data=rdf, format='turtle')\n",
      "  File \u001b[0;32m\"C:\\Users\\Uni\\Anaconda3\\lib\\site-packages\\rdflib\\graph.py\"\u001b[0m, line \u001b[0;32m1043\u001b[0m, in \u001b[0;35mparse\u001b[0m\n    parser.parse(source, self, **args)\n",
      "  File \u001b[0;32m\"C:\\Users\\Uni\\Anaconda3\\lib\\site-packages\\rdflib\\plugins\\parsers\\notation3.py\"\u001b[0m, line \u001b[0;32m1870\u001b[0m, in \u001b[0;35mparse\u001b[0m\n    p.loadStream(source.getByteStream())\n",
      "  File \u001b[0;32m\"C:\\Users\\Uni\\Anaconda3\\lib\\site-packages\\rdflib\\plugins\\parsers\\notation3.py\"\u001b[0m, line \u001b[0;32m434\u001b[0m, in \u001b[0;35mloadStream\u001b[0m\n    return self.loadBuf(stream.read())    # Not ideal\n",
      "  File \u001b[0;32m\"C:\\Users\\Uni\\Anaconda3\\lib\\site-packages\\rdflib\\plugins\\parsers\\notation3.py\"\u001b[0m, line \u001b[0;32m440\u001b[0m, in \u001b[0;35mloadBuf\u001b[0m\n    self.feed(buf)\n",
      "  File \u001b[0;32m\"C:\\Users\\Uni\\Anaconda3\\lib\\site-packages\\rdflib\\plugins\\parsers\\notation3.py\"\u001b[0m, line \u001b[0;32m466\u001b[0m, in \u001b[0;35mfeed\u001b[0m\n    i = self.directiveOrStatement(s, j)\n",
      "  File \u001b[0;32m\"C:\\Users\\Uni\\Anaconda3\\lib\\site-packages\\rdflib\\plugins\\parsers\\notation3.py\"\u001b[0m, line \u001b[0;32m489\u001b[0m, in \u001b[0;35mdirectiveOrStatement\u001b[0m\n    return self.checkDot(argstr, j)\n",
      "  File \u001b[0;32m\"C:\\Users\\Uni\\Anaconda3\\lib\\site-packages\\rdflib\\plugins\\parsers\\notation3.py\"\u001b[0m, line \u001b[0;32m1159\u001b[0m, in \u001b[0;35mcheckDot\u001b[0m\n    \"expected '.' or '}' or ']' at end of statement\")\n",
      "\u001b[1;36m  File \u001b[1;32m\"C:\\Users\\Uni\\Anaconda3\\lib\\site-packages\\rdflib\\plugins\\parsers\\notation3.py\"\u001b[1;36m, line \u001b[1;32m1615\u001b[1;36m, in \u001b[1;35mBadSyntax\u001b[1;36m\u001b[0m\n\u001b[1;33m    raise BadSyntax(self._thisDoc, self.lines, argstr, i, msg)\u001b[0m\n",
      "\u001b[1;36m  File \u001b[1;32m\"<string>\"\u001b[1;36m, line \u001b[1;32munknown\u001b[0m\n\u001b[1;31mBadSyntax\u001b[0m\n"
     ]
    }
   ],
   "source": [
    "from rdflib import Graph, Namespace, BNode, URIRef, Literal\n",
    "from rdflib.namespace import RDF, XSD\n",
    "from shortid import ShortId\n",
    "\n",
    "rdf = \"\"\"\n",
    "@prefix ex: <http://example.org#> .\n",
    "@prefix rdf: <http://www.w3.org/1999/02/22-rdf-syntax-ns#> .\n",
    "@prefix rdfs: <http://www.w3.org/2000/01/rdf-schema#> .\n",
    "@prefix xml: <http://www.w3.org/XML/1998/namespace> .\n",
    "@prefix xsd: <http://www.w3.org/2001/XMLSchema#> .\n",
    "\n",
    "ex:dobtvAwc a ex:Album ;\n",
    "    ex:title \"The Dark Side of the Moon\"@literal ;\n",
    "    ex:title \"Die Dunkle Seite des Mondes\"@literal ;\n",
    "    ex:label \"Harvest, EMI\"^^xsd:lang=\"eng\" ;\n",
    "    ex:released [ \n",
    "      ex:day \"16\"^^xsd:decimal ;\n",
    "      ex:month \"03\"^^xsd:decimal ;\n",
    "      ex:year \"1973\"^^xsd:decimal ] ;\n",
    "\"\"\"\n",
    "\n",
    "g = Graph()\n",
    "r = g.parse(data=rdf, format='turtle')\n",
    "\n",
    "print(len(g))"
   ]
  },
  {
   "cell_type": "markdown",
   "metadata": {
    "deletable": false
   },
   "source": [
    "Schreiben Sie nun eine *geschlossene* Einkaufsliste in beliebiger RDF Syntax, lesen Sie das RDF mit `g.parse()` ein und geben Sie dann die Grösse des Graphen aus. Die benötigten Pythonbefehle können Sie aus den obigen Beispielen entnehmen."
   ]
  },
  {
   "cell_type": "code",
   "execution_count": 8,
   "metadata": {
    "deletable": false
   },
   "outputs": [
    {
     "ename": "PluginException",
     "evalue": "No plugin registered for (XML/RDF, <class 'rdflib.parser.Parser'>)",
     "output_type": "error",
     "traceback": [
      "\u001b[1;31m---------------------------------------------------------------------------\u001b[0m",
      "\u001b[1;31mKeyError\u001b[0m                                  Traceback (most recent call last)",
      "\u001b[1;32m~\\Anaconda3\\lib\\site-packages\\rdflib\\plugin.py\u001b[0m in \u001b[0;36mget\u001b[1;34m(name, kind)\u001b[0m\n\u001b[0;32m     99\u001b[0m     \u001b[1;32mtry\u001b[0m\u001b[1;33m:\u001b[0m\u001b[1;33m\u001b[0m\u001b[0m\n\u001b[1;32m--> 100\u001b[1;33m         \u001b[0mp\u001b[0m \u001b[1;33m=\u001b[0m \u001b[0m_plugins\u001b[0m\u001b[1;33m[\u001b[0m\u001b[1;33m(\u001b[0m\u001b[0mname\u001b[0m\u001b[1;33m,\u001b[0m \u001b[0mkind\u001b[0m\u001b[1;33m)\u001b[0m\u001b[1;33m]\u001b[0m\u001b[1;33m\u001b[0m\u001b[0m\n\u001b[0m\u001b[0;32m    101\u001b[0m     \u001b[1;32mexcept\u001b[0m \u001b[0mKeyError\u001b[0m\u001b[1;33m:\u001b[0m\u001b[1;33m\u001b[0m\u001b[0m\n",
      "\u001b[1;31mKeyError\u001b[0m: ('XML/RDF', <class 'rdflib.parser.Parser'>)",
      "\nDuring handling of the above exception, another exception occurred:\n",
      "\u001b[1;31mPluginException\u001b[0m                           Traceback (most recent call last)",
      "\u001b[1;32m<ipython-input-8-5dc8d146893c>\u001b[0m in \u001b[0;36m<module>\u001b[1;34m()\u001b[0m\n\u001b[0;32m     12\u001b[0m \u001b[1;33m\u001b[0m\u001b[0m\n\u001b[0;32m     13\u001b[0m \u001b[0mg\u001b[0m \u001b[1;33m=\u001b[0m \u001b[0mGraph\u001b[0m\u001b[1;33m(\u001b[0m\u001b[1;33m)\u001b[0m\u001b[1;33m\u001b[0m\u001b[0m\n\u001b[1;32m---> 14\u001b[1;33m \u001b[0mr\u001b[0m \u001b[1;33m=\u001b[0m \u001b[0mg\u001b[0m\u001b[1;33m.\u001b[0m\u001b[0mparse\u001b[0m\u001b[1;33m(\u001b[0m\u001b[0mdata\u001b[0m\u001b[1;33m=\u001b[0m\u001b[0mrdf\u001b[0m\u001b[1;33m,\u001b[0m \u001b[0mformat\u001b[0m\u001b[1;33m=\u001b[0m\u001b[1;34m'XML/RDF'\u001b[0m\u001b[1;33m)\u001b[0m\u001b[1;33m\u001b[0m\u001b[0m\n\u001b[0m\u001b[0;32m     15\u001b[0m \u001b[1;33m\u001b[0m\u001b[0m\n\u001b[0;32m     16\u001b[0m \u001b[1;31m#Weder die Folien noch die obigen Beispiele helfen mir die Lösung zu finden. Bitte um Hilfe!\u001b[0m\u001b[1;33m\u001b[0m\u001b[1;33m\u001b[0m\u001b[0m\n",
      "\u001b[1;32m~\\Anaconda3\\lib\\site-packages\\rdflib\\graph.py\u001b[0m in \u001b[0;36mparse\u001b[1;34m(self, source, publicID, format, location, file, data, **args)\u001b[0m\n\u001b[0;32m   1039\u001b[0m             \u001b[1;31m# \"expicitly specify one with the format argument.\" % source)\u001b[0m\u001b[1;33m\u001b[0m\u001b[1;33m\u001b[0m\u001b[0m\n\u001b[0;32m   1040\u001b[0m             \u001b[0mformat\u001b[0m \u001b[1;33m=\u001b[0m \u001b[1;34m\"application/rdf+xml\"\u001b[0m\u001b[1;33m\u001b[0m\u001b[0m\n\u001b[1;32m-> 1041\u001b[1;33m         \u001b[0mparser\u001b[0m \u001b[1;33m=\u001b[0m \u001b[0mplugin\u001b[0m\u001b[1;33m.\u001b[0m\u001b[0mget\u001b[0m\u001b[1;33m(\u001b[0m\u001b[0mformat\u001b[0m\u001b[1;33m,\u001b[0m \u001b[0mParser\u001b[0m\u001b[1;33m)\u001b[0m\u001b[1;33m(\u001b[0m\u001b[1;33m)\u001b[0m\u001b[1;33m\u001b[0m\u001b[0m\n\u001b[0m\u001b[0;32m   1042\u001b[0m         \u001b[1;32mtry\u001b[0m\u001b[1;33m:\u001b[0m\u001b[1;33m\u001b[0m\u001b[0m\n\u001b[0;32m   1043\u001b[0m             \u001b[0mparser\u001b[0m\u001b[1;33m.\u001b[0m\u001b[0mparse\u001b[0m\u001b[1;33m(\u001b[0m\u001b[0msource\u001b[0m\u001b[1;33m,\u001b[0m \u001b[0mself\u001b[0m\u001b[1;33m,\u001b[0m \u001b[1;33m**\u001b[0m\u001b[0margs\u001b[0m\u001b[1;33m)\u001b[0m\u001b[1;33m\u001b[0m\u001b[0m\n",
      "\u001b[1;32m~\\Anaconda3\\lib\\site-packages\\rdflib\\plugin.py\u001b[0m in \u001b[0;36mget\u001b[1;34m(name, kind)\u001b[0m\n\u001b[0;32m    101\u001b[0m     \u001b[1;32mexcept\u001b[0m \u001b[0mKeyError\u001b[0m\u001b[1;33m:\u001b[0m\u001b[1;33m\u001b[0m\u001b[0m\n\u001b[0;32m    102\u001b[0m         raise PluginException(\n\u001b[1;32m--> 103\u001b[1;33m             \"No plugin registered for (%s, %s)\" % (name, kind))\n\u001b[0m\u001b[0;32m    104\u001b[0m     \u001b[1;32mreturn\u001b[0m \u001b[0mp\u001b[0m\u001b[1;33m.\u001b[0m\u001b[0mgetClass\u001b[0m\u001b[1;33m(\u001b[0m\u001b[1;33m)\u001b[0m\u001b[1;33m\u001b[0m\u001b[0m\n\u001b[0;32m    105\u001b[0m \u001b[1;33m\u001b[0m\u001b[0m\n",
      "\u001b[1;31mPluginException\u001b[0m: No plugin registered for (XML/RDF, <class 'rdflib.parser.Parser'>)"
     ]
    }
   ],
   "source": [
    "rdf = \"\"\"\n",
    "<rdf:Description rdf:about=\"http://example.org#Einkaufsliste\">\n",
    "    <ex:Backzutaten rdf:parseType=\"Collection\">\n",
    "        <rdf:Description rdf:about=\"http://www.example.org/Brot\"/>\n",
    "        <rdf:Description rdf:about=\"http://www.example.org/Mehl\" />\n",
    "        <rdf:Description rdf:about=\"http://www.example.org/Hefe\" />\n",
    "        <rdf:Description rdf:about=\"http://www.example.org/Olivenöl\" />\n",
    "        <rdf:Description rdf:about=\"http://www.example.org/Salz\" />\n",
    "    </ex:Backzutaten>\n",
    "</rdf:Description>\n",
    "\"\"\"\n",
    "    \n",
    "g = Graph()\n",
    "r = g.parse(data=rdf, format='XML/RDF')\n",
    "\n",
    "#Weder die Folien noch die obigen Beispiele helfen mir die Lösung zu finden. Bitte um Hilfe!"
   ]
  },
  {
   "cell_type": "code",
   "execution_count": null,
   "metadata": {},
   "outputs": [],
   "source": []
  }
 ],
 "metadata": {
  "kernelspec": {
   "display_name": "Python 3",
   "language": "python",
   "name": "python3"
  },
  "language_info": {
   "codemirror_mode": {
    "name": "ipython",
    "version": 3
   },
   "file_extension": ".py",
   "mimetype": "text/x-python",
   "name": "python",
   "nbconvert_exporter": "python",
   "pygments_lexer": "ipython3",
   "version": "3.6.4"
  }
 },
 "nbformat": 4,
 "nbformat_minor": 2
}
