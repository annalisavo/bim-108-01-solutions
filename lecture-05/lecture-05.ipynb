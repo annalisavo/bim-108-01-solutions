{
 "cells": [
  {
   "cell_type": "markdown",
   "metadata": {
    "deletable": false
   },
   "source": [
    "# Schema: XML Schema"
   ]
  },
  {
   "cell_type": "markdown",
   "metadata": {
    "deletable": false
   },
   "source": [
    "Ähnlich wie die Document Type Definition (DTD), ermöglicht auch XML Schema die Spezifikation von XML Dokumente und somit das Validieren solcher Dokumente. Ziel beider Grammatiken ist die Interoperabilität zwischen entwickelten Systeme zu ermöglichen oder erhöhen. In dieser Übung schauen wir uns XML Schema etwas genauer in der Praxis an. Führen Sie zuerst den folgenden Codeblock aus und machen Sie dann der Reihe nach weiter. Beantworten Sie die Fragen (falls zutreffend). Zum Schluss, schreiben Sie ein eigenes XML Schema und ein exemplarisches XML Dokument dafür. Stellen Sie sicher, dass das XML Dokument wohlgeformt und gültig ist."
   ]
  },
  {
   "cell_type": "code",
   "execution_count": 1,
   "metadata": {
    "deletable": false
   },
   "outputs": [],
   "source": [
    "import io\n",
    "from lxml import etree as et\n",
    "\n",
    "def isvalid(xsd, doc):\n",
    "    print(et.XMLSchema(et.parse(io.StringIO(xsd))).validate(et.fromstring(doc)))"
   ]
  },
  {
   "cell_type": "code",
   "execution_count": 4,
   "metadata": {
    "deletable": false
   },
   "outputs": [
    {
     "name": "stdout",
     "output_type": "stream",
     "text": [
      "True\n",
      "False\n"
     ]
    }
   ],
   "source": [
    "xsd = \"\"\"\n",
    "<xs:schema xmlns:xs=\"http://www.w3.org/2001/XMLSchema\">\n",
    "  <xs:element name=\"discography\"/>\n",
    "</xs:schema>\n",
    "\"\"\"\n",
    "\n",
    "isvalid(xsd, '<discography/>')\n",
    "isvalid(xsd, '<albums/>') # Warum ist dieses Dokument nicht gültig? Antwort: Weil \"albums\" nicht vorher im xsd definiert wurde"
   ]
  },
  {
   "cell_type": "code",
   "execution_count": 7,
   "metadata": {
    "deletable": false
   },
   "outputs": [
    {
     "name": "stdout",
     "output_type": "stream",
     "text": [
      "True\n",
      "True\n"
     ]
    }
   ],
   "source": [
    "xsd = \"\"\"\n",
    "<xs:schema xmlns:xs=\"http://www.w3.org/2001/XMLSchema\">\n",
    "  <xs:element name=\"title\" type=\"xs:string\"/>\n",
    "</xs:schema>\n",
    "\"\"\"\n",
    "\n",
    "isvalid(xsd, '<title>The Dark Side of the Moon</title>')\n",
    "isvalid(xsd, '<title>1973</title>') # Warum ist dieses Dokument gültig? Antwort: Da \"title\" als type string definiert wurde, so \n",
    "                                    # \"1973\" als String behandelt"
   ]
  },
  {
   "cell_type": "code",
   "execution_count": 8,
   "metadata": {
    "deletable": false
   },
   "outputs": [
    {
     "name": "stdout",
     "output_type": "stream",
     "text": [
      "True\n",
      "False\n"
     ]
    }
   ],
   "source": [
    "xsd = \"\"\"\n",
    "<xs:schema xmlns:xs=\"http://www.w3.org/2001/XMLSchema\">\n",
    "  <xs:element name=\"year\" type=\"xs:decimal\"/>\n",
    "</xs:schema>\n",
    "\"\"\"\n",
    "\n",
    "isvalid(xsd, '<year>1973</year>')\n",
    "isvalid(xsd, '<year>The Dark Side of the Moon</year>') # Warum ist dieses Dokument nicht gültig? Antwort: \"year\" wurde als\n",
    "                                                       # \"decimal\" definiert, also als Zahl. Hier ist es aber keine Zahl"
   ]
  },
  {
   "cell_type": "code",
   "execution_count": null,
   "metadata": {
    "deletable": false
   },
   "outputs": [],
   "source": [
    "xsd = \"\"\"\n",
    "<xs:schema xmlns:xs=\"http://www.w3.org/2001/XMLSchema\">\n",
    "  <xs:element name=\"year\" type=\"xs:gYear\"/>\n",
    "</xs:schema>\n",
    "\"\"\"\n",
    "\n",
    "isvalid(xsd, '<year>1973</year>')"
   ]
  },
  {
   "cell_type": "code",
   "execution_count": 11,
   "metadata": {
    "deletable": false
   },
   "outputs": [
    {
     "name": "stdout",
     "output_type": "stream",
     "text": [
      "False\n"
     ]
    }
   ],
   "source": [
    "xsd = \"\"\"\n",
    "<xs:schema xmlns:xs=\"http://www.w3.org/2001/XMLSchema\">\n",
    "  <xs:element name=\"year\" type=\"xs:gMonth\"/>\n",
    "</xs:schema>\n",
    "\"\"\"\n",
    "\n",
    "isvalid(xsd, '<year>1973</year>') # Warum ist dieses Dokument nicht gültig? Antwort: In der xsd wurde zuvor definiert das das\n",
    "                                   # Element \"year\" als type \"Month\" besitzt, was hier aber als \"Year\" geschrieben wurde"
   ]
  },
  {
   "cell_type": "markdown",
   "metadata": {
    "deletable": false
   },
   "source": [
    "## Komplexe Elemente Deklarieren: Variante I"
   ]
  },
  {
   "cell_type": "code",
   "execution_count": 12,
   "metadata": {
    "deletable": false
   },
   "outputs": [
    {
     "name": "stdout",
     "output_type": "stream",
     "text": [
      "True\n"
     ]
    }
   ],
   "source": [
    "xsd = \"\"\"\n",
    "<xs:schema xmlns:xs=\"http://www.w3.org/2001/XMLSchema\">\n",
    "  <xs:element name=\"album\">\n",
    "    <xs:complexType>\n",
    "      <xs:sequence>\n",
    "        <xs:element name=\"title\" type=\"xs:string\"/>\n",
    "        <xs:element name=\"label\" type=\"xs:string\"/>\n",
    "      </xs:sequence>\n",
    "    </xs:complexType>\n",
    "  </xs:element>\n",
    "</xs:schema>\n",
    "\"\"\"\n",
    "\n",
    "doc = \"\"\"\n",
    "<album>\n",
    "<title>The Dark Side of the Moon</title>\n",
    "<label>Harvest, EMI</label>\n",
    "</album>\n",
    "\"\"\"\n",
    "\n",
    "isvalid(xsd, doc)"
   ]
  },
  {
   "cell_type": "code",
   "execution_count": 13,
   "metadata": {
    "deletable": false
   },
   "outputs": [
    {
     "name": "stdout",
     "output_type": "stream",
     "text": [
      "False\n"
     ]
    }
   ],
   "source": [
    "xsd = \"\"\"\n",
    "<xs:schema xmlns:xs=\"http://www.w3.org/2001/XMLSchema\">\n",
    "  <xs:element name=\"album\">\n",
    "    <xs:complexType>\n",
    "      <xs:sequence>\n",
    "        <xs:element name=\"label\" type=\"xs:string\"/>\n",
    "        <xs:element name=\"title\" type=\"xs:string\"/>\n",
    "      </xs:sequence>\n",
    "    </xs:complexType>\n",
    "  </xs:element>\n",
    "</xs:schema>\n",
    "\"\"\"\n",
    "\n",
    "doc = \"\"\"\n",
    "<album>\n",
    "<title>The Dark Side of the Moon</title>\n",
    "<label>Harvest, EMI</label>\n",
    "</album>\n",
    "\"\"\"\n",
    "\n",
    "isvalid(xsd, doc) # Warum ist dieses Dokument nicht gültig? Antwort: Die Elemente \"tile\" und \"label\" sind in der falschen \n",
    "                  # Reihenfolge aufgezählt als im xsd zuvor definiert (xs:sequence gibt an in welcher Reihenfolge Elemente\n",
    "                  # vorkommen sollen)"
   ]
  },
  {
   "cell_type": "code",
   "execution_count": 16,
   "metadata": {
    "deletable": false
   },
   "outputs": [
    {
     "name": "stdout",
     "output_type": "stream",
     "text": [
      "False\n"
     ]
    }
   ],
   "source": [
    "xsd = \"\"\"\n",
    "<xs:schema xmlns:xs=\"http://www.w3.org/2001/XMLSchema\">\n",
    "  <xs:element name=\"album\">\n",
    "    <xs:complexType>\n",
    "      <xs:sequence>\n",
    "        <xs:element name=\"title\" type=\"xs:string\"/>\n",
    "        <xs:element name=\"label\" type=\"xs:string\"/>\n",
    "      </xs:sequence>\n",
    "    </xs:complexType>\n",
    "  </xs:element>\n",
    "</xs:schema>\n",
    "\"\"\"\n",
    "\n",
    "doc = \"\"\"\n",
    "<album>\n",
    "<label>Harvest, EMI</label>\n",
    "<title>The Dark Side of the Moon</title>\n",
    "</album>\n",
    "\"\"\"\n",
    "\n",
    "isvalid(xsd, doc) # Warum ist dieses Dokument nicht gültig? Antwort: Die Elemente \"label\" und \"title\" wurden in der falschen\n",
    "                  # Reihenfolge als im xsd zuvor definiert angegeben"
   ]
  },
  {
   "cell_type": "markdown",
   "metadata": {
    "deletable": false
   },
   "source": [
    "## Komplexe Elemente Deklarieren: Variante II"
   ]
  },
  {
   "cell_type": "code",
   "execution_count": null,
   "metadata": {
    "deletable": false
   },
   "outputs": [],
   "source": [
    "xsd = \"\"\"\n",
    "<xs:schema xmlns:xs=\"http://www.w3.org/2001/XMLSchema\">\n",
    "  <xs:element name=\"album\" type=\"AlbumType\"/>\n",
    "  \n",
    "  <xs:complexType name=\"AlbumType\">\n",
    "    <xs:sequence>\n",
    "      <xs:element name=\"title\" type=\"xs:string\"/>\n",
    "      <xs:element name=\"label\" type=\"xs:string\"/>\n",
    "    </xs:sequence>\n",
    "  </xs:complexType>\n",
    "\n",
    "</xs:schema>\n",
    "\"\"\"\n",
    "\n",
    "doc = \"\"\"\n",
    "<album>\n",
    "<title>The Dark Side of the Moon</title>\n",
    "<label>Harvest, EMI</label>\n",
    "</album>\n",
    "\"\"\"\n",
    "\n",
    "isvalid(xsd, doc)"
   ]
  },
  {
   "cell_type": "code",
   "execution_count": 19,
   "metadata": {
    "deletable": false
   },
   "outputs": [
    {
     "name": "stdout",
     "output_type": "stream",
     "text": [
      "True\n",
      "True\n"
     ]
    }
   ],
   "source": [
    "xsd = \"\"\"\n",
    "<xs:schema xmlns:xs=\"http://www.w3.org/2001/XMLSchema\">\n",
    "  <xs:element name=\"work\" type=\"WorkType\"/>\n",
    "  <xs:element name=\"album\" type=\"AlbumType\"/>\n",
    "  <xs:complexType name=\"WorkType\">\n",
    "    <xs:sequence>\n",
    "      <xs:element name=\"title\" type=\"xs:string\"/>\n",
    "    </xs:sequence>\n",
    "  </xs:complexType>\n",
    "  <xs:complexType name=\"AlbumType\">\n",
    "    <xs:complexContent>\n",
    "      <xs:extension base=\"WorkType\">\n",
    "        <xs:sequence>\n",
    "          <xs:element name=\"label\" type=\"xs:string\"/>\n",
    "        </xs:sequence>\n",
    "      </xs:extension>\n",
    "    </xs:complexContent>\n",
    " </xs:complexType>\n",
    "</xs:schema>\n",
    "\"\"\"\n",
    "\n",
    "doc = \"\"\"\n",
    "<album>\n",
    "<title>The Dark Side of the Moon</title>\n",
    "<label>Harvest, EMI</label>\n",
    "</album>\n",
    "\"\"\"\n",
    "\n",
    "isvalid(xsd, doc)\n",
    "\n",
    "doc = \"\"\"\n",
    "<album>\n",
    "<!-- The order matters -->\n",
    "<label>Harvest, EMI</label>\n",
    "<title>The Dark Side of the Moon</title>\n",
    "</album>\n",
    "\"\"\"\n",
    "\n",
    "isvalid(xsd, doc) # Warum ist dieses Dokument nicht gültig? Antwort: \"label\" und \"title\" müssen in der Reihenfolge angegeben werden\n",
    "                  # wie im xsd definiert wurde"
   ]
  },
  {
   "cell_type": "markdown",
   "metadata": {
    "deletable": false
   },
   "source": [
    "# Attribute Deklarieren"
   ]
  },
  {
   "cell_type": "code",
   "execution_count": null,
   "metadata": {
    "deletable": false
   },
   "outputs": [],
   "source": [
    "xsd = \"\"\"\n",
    "<xs:schema xmlns:xs=\"http://www.w3.org/2001/XMLSchema\">\n",
    "  <xs:element name=\"album\">\n",
    "    <xs:complexType>\n",
    "      <xs:attribute name=\"title\" type=\"xs:string\"/>\n",
    "    </xs:complexType>\n",
    "  </xs:element>\n",
    "</xs:schema>\n",
    "\"\"\"\n",
    "\n",
    "doc = \"\"\"\n",
    "<album title=\"The Dark Side of the Moon\"/>\n",
    "\"\"\"\n",
    "\n",
    "isvalid(xsd, doc)"
   ]
  },
  {
   "cell_type": "code",
   "execution_count": null,
   "metadata": {
    "deletable": false
   },
   "outputs": [],
   "source": [
    "xsd = \"\"\"\n",
    "<xs:schema xmlns:xs=\"http://www.w3.org/2001/XMLSchema\">\n",
    "  <xs:element name=\"album\">\n",
    "    <xs:complexType>\n",
    "      <xs:simpleContent>\n",
    "        <xs:extension base=\"xs:string\">\n",
    "          <xs:attribute name=\"year\" type=\"xs:gYear\" />\n",
    "        </xs:extension>\n",
    "      </xs:simpleContent>\n",
    "    </xs:complexType>\n",
    "  </xs:element>\n",
    "</xs:schema>\n",
    "\"\"\"\n",
    "\n",
    "doc = \"\"\"\n",
    "<album year=\"1973\">The Dark Side of the Moon</album>\n",
    "\"\"\"\n",
    "\n",
    "isvalid(xsd, doc)"
   ]
  },
  {
   "cell_type": "markdown",
   "metadata": {
    "deletable": false
   },
   "source": [
    "# Weitere Eigenschaften"
   ]
  },
  {
   "cell_type": "code",
   "execution_count": 20,
   "metadata": {
    "deletable": false
   },
   "outputs": [
    {
     "name": "stdout",
     "output_type": "stream",
     "text": [
      "True\n"
     ]
    }
   ],
   "source": [
    "xsd = \"\"\"\n",
    "<xs:schema xmlns:xs=\"http://www.w3.org/2001/XMLSchema\">\n",
    "  <xs:element name=\"album\">\n",
    "    <xs:complexType>\n",
    "      <xs:sequence>\n",
    "        <xs:element name=\"title\" type=\"xs:string\" maxOccurs=\"2\"/>\n",
    "        <xs:element name=\"label\" type=\"xs:string\"/>\n",
    "      </xs:sequence>\n",
    "    </xs:complexType>\n",
    "  </xs:element>\n",
    "</xs:schema>\n",
    "\"\"\"\n",
    "\n",
    "doc = \"\"\"\n",
    "<album>\n",
    "<title>The Dark Side of the Moon</title>\n",
    "<title>The Bright Side of the Moon</title>\n",
    "<label>Harvest, EMI</label>\n",
    "</album>\n",
    "\"\"\"\n",
    "\n",
    "isvalid(xsd, doc) # Warum ist dieses Dokument gültig? Antwort: In der xsd wurde definiert dass, das Element \"title\" maximal\n",
    "                  # 2 mal vorkommen darf, was hier der Fall ist"
   ]
  },
  {
   "cell_type": "code",
   "execution_count": 21,
   "metadata": {
    "deletable": false
   },
   "outputs": [
    {
     "name": "stdout",
     "output_type": "stream",
     "text": [
      "True\n",
      "True\n"
     ]
    }
   ],
   "source": [
    "xsd = \"\"\"\n",
    "<xs:schema xmlns:xs=\"http://www.w3.org/2001/XMLSchema\">\n",
    "  <xs:element name=\"album\">\n",
    "    <xs:complexType>\n",
    "      <xs:all>\n",
    "        <xs:element name=\"title\" type=\"xs:string\"/>\n",
    "        <xs:element name=\"label\" type=\"xs:string\"/>\n",
    "      </xs:all>\n",
    "    </xs:complexType>\n",
    "  </xs:element>\n",
    "</xs:schema>\n",
    "\"\"\"\n",
    "\n",
    "doc = \"\"\"\n",
    "<album>\n",
    "<title>The Dark Side of the Moon</title>\n",
    "<label>Harvest, EMI</label>\n",
    "</album>\n",
    "\"\"\"\n",
    "\n",
    "isvalid(xsd, doc)\n",
    "\n",
    "doc = \"\"\"\n",
    "<album>\n",
    "<label>Harvest, EMI</label>\n",
    "<title>The Dark Side of the Moon</title>\n",
    "</album>\n",
    "\"\"\"\n",
    "\n",
    "isvalid(xsd, doc) # Warum ist dieses Dokument gültig? Antwort: In der xsd wurde angegeben das die elemente \"label\" und \"title\"\n",
    "                  # in einer beliebigen Reihenfolge vorkommen dürfen, müssen aber alle einmal vorkommen"
   ]
  },
  {
   "cell_type": "code",
   "execution_count": null,
   "metadata": {
    "deletable": false
   },
   "outputs": [],
   "source": [
    "xsd = \"\"\"\n",
    "<xs:schema xmlns:xs=\"http://www.w3.org/2001/XMLSchema\">\n",
    "  <xs:element name=\"album\">\n",
    "    <xs:complexType>\n",
    "      <xs:choice>\n",
    "        <xs:element name=\"title\" type=\"xs:string\"/>\n",
    "        <xs:element name=\"label\" type=\"xs:string\"/>\n",
    "      </xs:choice>\n",
    "    </xs:complexType>\n",
    "  </xs:element>\n",
    "</xs:schema>\n",
    "\"\"\"\n",
    "\n",
    "doc = \"\"\"\n",
    "<album>\n",
    "<title>The Dark Side of the Moon</title>\n",
    "</album>\n",
    "\"\"\"\n",
    "\n",
    "isvalid(xsd, doc)\n",
    "\n",
    "doc = \"\"\"\n",
    "<album>\n",
    "<label>Harvest, EMI</label>\n",
    "</album>\n",
    "\"\"\"\n",
    "\n",
    "isvalid(xsd, doc)\n",
    "\n",
    "doc = \"\"\"\n",
    "<album>\n",
    "<title>The Dark Side of the Moon</title>\n",
    "<label>Harvest, EMI</label>\n",
    "</album>\n",
    "\"\"\"\n",
    "\n",
    "isvalid(xsd, doc) # Warum ist dieses Dokument nicht gültig? Antwort: In der xsd wurde definiert das nur ein Element aus der Liste\n",
    "                  # \"title\" und \"label\" gewählt werden darf, hier wurden aber beide gewählt"
   ]
  },
  {
   "cell_type": "code",
   "execution_count": null,
   "metadata": {
    "deletable": false
   },
   "outputs": [],
   "source": [
    "xsd = \"\"\"\n",
    "<xs:schema xmlns:xs=\"http://www.w3.org/2001/XMLSchema\">\n",
    "  <xs:element name=\"released\">\n",
    "    <xs:simpleType>\n",
    "      <xs:restriction base=\"xs:integer\">\n",
    "        <xs:minInclusive value=\"1950\"/>\n",
    "        <xs:maxInclusive value=\"2018\"/>\n",
    "      </xs:restriction>\n",
    "    </xs:simpleType>\n",
    "  </xs:element>\n",
    "</xs:schema>\n",
    "\"\"\"\n",
    "\n",
    "doc = \"\"\"\n",
    "<released>1973</released>\n",
    "\"\"\"\n",
    "\n",
    "isvalid(xsd, doc)\n",
    "\n",
    "doc = \"\"\"\n",
    "<released>2020</released>\n",
    "\"\"\"\n",
    "\n",
    "isvalid(xsd, doc) # Warum ist dieses Dokument nicht gültig? Antwort: In der xsd wurde zuvor definiert dass,Das Element \"released\" \n",
    "                  # darf nur den Wert 1950 oder 2018 annehmen darf."
   ]
  },
  {
   "cell_type": "code",
   "execution_count": 22,
   "metadata": {
    "deletable": false
   },
   "outputs": [
    {
     "name": "stdout",
     "output_type": "stream",
     "text": [
      "True\n",
      "False\n"
     ]
    }
   ],
   "source": [
    "xsd = \"\"\"\n",
    "<xs:schema xmlns:xs=\"http://www.w3.org/2001/XMLSchema\">\n",
    "  <xs:element name=\"author\">\n",
    "    <xs:simpleType>\n",
    "      <xs:restriction base=\"xs:string\">\n",
    "        <xs:enumeration value=\"Roger Waters\"/>\n",
    "        <xs:enumeration value=\"David Gilmour\"/>\n",
    "        <xs:enumeration value=\"Syd Barrett\"/>\n",
    "      </xs:restriction>\n",
    "    </xs:simpleType>\n",
    "  </xs:element>\n",
    "</xs:schema>\n",
    "\"\"\"\n",
    "\n",
    "doc = \"\"\"\n",
    "<author>Roger Waters</author>\n",
    "\"\"\"\n",
    "\n",
    "isvalid(xsd, doc)\n",
    "\n",
    "doc = \"\"\"\n",
    "<author>Jimmy Page</author>\n",
    "\"\"\"\n",
    "\n",
    "isvalid(xsd, doc) # Warum ist dieses Dokument nicht gültig? Antwort: In der xsd wurde zuvor definiert das der Inhalt des ELementes\n",
    "                  # \"author\" nur bestimmte Werte haben darf. \"Jimmy Page\" ist nicht dabei"
   ]
  },
  {
   "cell_type": "code",
   "execution_count": 23,
   "metadata": {
    "deletable": false
   },
   "outputs": [
    {
     "name": "stdout",
     "output_type": "stream",
     "text": [
      "True\n",
      "False\n"
     ]
    }
   ],
   "source": [
    "xsd = \"\"\"\n",
    "<xs:schema xmlns:xs=\"http://www.w3.org/2001/XMLSchema\">\n",
    "  <xs:element name=\"author\">\n",
    "    <xs:simpleType>\n",
    "      <xs:restriction base=\"xs:string\">\n",
    "        <xs:pattern value=\"[A-Z][a-z]+\"/>\n",
    "      </xs:restriction>\n",
    "    </xs:simpleType>\n",
    "  </xs:element>\n",
    "</xs:schema>\n",
    "\"\"\"\n",
    "\n",
    "doc = \"\"\"\n",
    "<author>Waters</author>\n",
    "\"\"\"\n",
    "\n",
    "isvalid(xsd, doc)\n",
    "\n",
    "doc = \"\"\"\n",
    "<author>gilmour</author>\n",
    "\"\"\"\n",
    "\n",
    "isvalid(xsd, doc) # Warum ist dieses Dokument nicht gültig? Antwort: In der xsd wurde zuvor definiert dass, der Inhalt des Elementes\n",
    "                  # \"author\" mit einem Großbuchstaben anfangen muss, was hier nicht der Fall ist."
   ]
  },
  {
   "cell_type": "code",
   "execution_count": null,
   "metadata": {
    "deletable": false
   },
   "outputs": [],
   "source": [
    "xsd = \"\"\"\n",
    "<xs:schema xmlns:xs=\"http://www.w3.org/2001/XMLSchema\" \n",
    "  targetNamespace=\"http://example.org\"\n",
    "  elementFormDefault=\"qualified\">\n",
    "  <xs:element name=\"album\">\n",
    "    <xs:complexType>\n",
    "      <xs:sequence>\n",
    "        <xs:element name=\"title\" type=\"xs:string\"/>\n",
    "        <xs:element name=\"label\" type=\"xs:string\"/>\n",
    "      </xs:sequence>\n",
    "    </xs:complexType>\n",
    "  </xs:element>\n",
    "</xs:schema>\n",
    "\"\"\"\n",
    "\n",
    "doc = \"\"\"\n",
    "<album xmlns=\"http://example.org\">\n",
    "<title>The Dark Side of the Moon</title>\n",
    "<label>Harvest, EMI</label>\n",
    "</album>\n",
    "\"\"\"\n",
    "\n",
    "isvalid(xsd, doc)"
   ]
  },
  {
   "cell_type": "markdown",
   "metadata": {
    "deletable": false
   },
   "source": [
    "Denken Sie sich nun ein eigenes XML Dokument aus und erstellen Sie dafür ein XML Schema. Überprüfen Sie das XML Dokument auf Gültigkeit."
   ]
  },
  {
   "cell_type": "code",
   "execution_count": 52,
   "metadata": {
    "deletable": false
   },
   "outputs": [
    {
     "name": "stdout",
     "output_type": "stream",
     "text": [
      "True\n"
     ]
    }
   ],
   "source": [
    "xsd = \"\"\"\n",
    "<xs:schema xmlns:xs=\"http://www.w3.org/2001/XMLSchema\">\n",
    "  <xs:element name=\"persons\">\n",
    "    <xs:complexType>\n",
    "      <xs:sequence>\n",
    "        <xs:element name=\"name\">\n",
    "            <xs:simpleType>\n",
    "                <xs:restriction base=\"xs:string\">\n",
    "                    <xs:pattern value=\"\\s[A-Z][a-z]+\\s\"/>\n",
    "                </xs:restriction>\n",
    "            </xs:simpleType>\n",
    "        </xs:element>\n",
    "        <xs:element name=\"surname\" type=\"xs:string\"/>\n",
    "        <xs:element name=\"birthday\" type=\"xs:decimal\" maxOccurs=\"unbounded\"/>\n",
    "      </xs:sequence>\n",
    "    </xs:complexType>\n",
    "  </xs:element>\n",
    "</xs:schema>\n",
    "\"\"\"\n",
    "\n",
    "doc = \"\"\"\n",
    "<persons>\n",
    "    <name> Anna </name>\n",
    "    <surname> Lisa </surname>\n",
    "    <birthday> 1997 </birthday>\n",
    "</persons>\n",
    "\"\"\"\n",
    "\n",
    "isvalid(xsd, doc)"
   ]
  },
  {
   "cell_type": "code",
   "execution_count": null,
   "metadata": {},
   "outputs": [],
   "source": []
  }
 ],
 "metadata": {
  "kernelspec": {
   "display_name": "Python 3",
   "language": "python",
   "name": "python3"
  },
  "language_info": {
   "codemirror_mode": {
    "name": "ipython",
    "version": 3
   },
   "file_extension": ".py",
   "mimetype": "text/x-python",
   "name": "python",
   "nbconvert_exporter": "python",
   "pygments_lexer": "ipython3",
   "version": "3.6.4"
  }
 },
 "nbformat": 4,
 "nbformat_minor": 2
}
