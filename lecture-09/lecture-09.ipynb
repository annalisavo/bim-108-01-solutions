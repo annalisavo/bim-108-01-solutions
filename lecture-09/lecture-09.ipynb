{
 "cells": [
  {
   "cell_type": "markdown",
   "metadata": {
    "deletable": false
   },
   "source": [
    "# SPARQL: Die RDF Abfragesprache"
   ]
  },
  {
   "cell_type": "markdown",
   "metadata": {
    "deletable": false
   },
   "source": [
    "In dieser Übung schauen wir uns die SPARQL Abfragesprache für RDF in der Praxis an. Wir verwenden dafür etwas RDF mit der Pink Floyd Diskographie und führen einige Abfragen aus. Zum Schluss schreiben Sie dann Ihr eigenes RDF und einige SPARQL Abfragen dazu."
   ]
  },
  {
   "cell_type": "code",
   "execution_count": 1,
   "metadata": {
    "deletable": false
   },
   "outputs": [
    {
     "name": "stdout",
     "output_type": "stream",
     "text": [
      "Requirement already satisfied: rdflib in c:\\users\\uni\\anaconda3\\lib\\site-packages\n",
      "Requirement already satisfied: pyparsing in c:\\users\\uni\\anaconda3\\lib\\site-packages (from rdflib)\n",
      "Requirement already satisfied: isodate in c:\\users\\uni\\anaconda3\\lib\\site-packages (from rdflib)\n",
      "Requirement already satisfied: six in c:\\users\\uni\\anaconda3\\lib\\site-packages (from isodate->rdflib)\n"
     ]
    },
    {
     "name": "stderr",
     "output_type": "stream",
     "text": [
      "You are using pip version 9.0.1, however version 10.0.1 is available.\n",
      "You should consider upgrading via the 'python -m pip install --upgrade pip' command.\n"
     ]
    }
   ],
   "source": [
    "!pip install rdflib"
   ]
  },
  {
   "cell_type": "code",
   "execution_count": 4,
   "metadata": {
    "deletable": false
   },
   "outputs": [],
   "source": [
    "import pandas as pd\n",
    "from io import BytesIO, StringIO\n",
    "from rdflib import Graph\n",
    "from rdflib.plugins.sparql.results.csvresults import CSVResultSerializer\n",
    "from IPython.display import display\n",
    "\n",
    "rdf = \"\"\"\n",
    "@prefix ex: <http://example.org#> .\n",
    "@prefix rdf: <http://www.w3.org/1999/02/22-rdf-syntax-ns#> .\n",
    "@prefix xsd: <http://www.w3.org/2001/XMLSchema#> .\n",
    "\n",
    "[] a ex:Album ;\n",
    "   ex:title \"The Dark Side of the Moon\"^^xsd:string ;\n",
    "   ex:label \"Harvest, EMI\"@en ;\n",
    "   ex:released [ \n",
    "     ex:day \"16\"^^xsd:int ;\n",
    "     ex:month \"03\"^^xsd:int ;\n",
    "     ex:year \"1973\"^^xsd:int \n",
    "   ] .\n",
    "   \n",
    "[] a ex:Album ;\n",
    "   ex:title \"The Wall\" ;\n",
    "   ex:label \"Harvest, EMI\" ;\n",
    "   ex:released [ \n",
    "     ex:day 30 ;\n",
    "     ex:month \"11\"^^xsd:string ;\n",
    "     ex:year \"1979\"^^xsd:int \n",
    "   ] .\n",
    "\n",
    "[] a ex:Single ;\n",
    "   ex:title \"What God Wants, Part 1\"^^xsd:string ;\n",
    "   ex:author [\n",
    "     ex:firstname \"Roger\" ;\n",
    "     ex:lastname \"Waters\"\n",
    "   ] ;\n",
    "   ex:released [ \n",
    "     ex:year \"1992\"^^xsd:int \n",
    "   ] .\n",
    "\"\"\"\n",
    "\n",
    "g = Graph()\n",
    "\n",
    "r = g.parse(data=rdf, format='turtle')\n",
    "\n",
    "def query(q):\n",
    "    serializer = CSVResultSerializer(g.query(q))\n",
    "    output = BytesIO()\n",
    "    serializer.serialize(output)\n",
    "    display(pd.read_csv(StringIO(output.getvalue().decode())))"
   ]
  },
  {
   "cell_type": "markdown",
   "metadata": {
    "deletable": false
   },
   "source": [
    "Führen Sie nun die folgenden Abfragen aus und beantworten Sie die Fragen."
   ]
  },
  {
   "cell_type": "code",
   "execution_count": 3,
   "metadata": {
    "deletable": false
   },
   "outputs": [
    {
     "data": {
      "text/html": [
       "<div>\n",
       "<style scoped>\n",
       "    .dataframe tbody tr th:only-of-type {\n",
       "        vertical-align: middle;\n",
       "    }\n",
       "\n",
       "    .dataframe tbody tr th {\n",
       "        vertical-align: top;\n",
       "    }\n",
       "\n",
       "    .dataframe thead th {\n",
       "        text-align: right;\n",
       "    }\n",
       "</style>\n",
       "<table border=\"1\" class=\"dataframe\">\n",
       "  <thead>\n",
       "    <tr style=\"text-align: right;\">\n",
       "      <th></th>\n",
       "      <th>title</th>\n",
       "    </tr>\n",
       "  </thead>\n",
       "  <tbody>\n",
       "    <tr>\n",
       "      <th>0</th>\n",
       "      <td>The Wall</td>\n",
       "    </tr>\n",
       "    <tr>\n",
       "      <th>1</th>\n",
       "      <td>The Dark Side of the Moon</td>\n",
       "    </tr>\n",
       "    <tr>\n",
       "      <th>2</th>\n",
       "      <td>What God Wants, Part 1</td>\n",
       "    </tr>\n",
       "  </tbody>\n",
       "</table>\n",
       "</div>"
      ],
      "text/plain": [
       "                       title\n",
       "0                   The Wall\n",
       "1  The Dark Side of the Moon\n",
       "2     What God Wants, Part 1"
      ]
     },
     "metadata": {},
     "output_type": "display_data"
    }
   ],
   "source": [
    "query(\"\"\"\n",
    "SELECT ?title WHERE { \n",
    "  ?work ex:title ?title\n",
    "}\n",
    "\"\"\")"
   ]
  },
  {
   "cell_type": "code",
   "execution_count": 4,
   "metadata": {
    "deletable": false,
    "scrolled": true
   },
   "outputs": [
    {
     "data": {
      "text/html": [
       "<div>\n",
       "<style scoped>\n",
       "    .dataframe tbody tr th:only-of-type {\n",
       "        vertical-align: middle;\n",
       "    }\n",
       "\n",
       "    .dataframe tbody tr th {\n",
       "        vertical-align: top;\n",
       "    }\n",
       "\n",
       "    .dataframe thead th {\n",
       "        text-align: right;\n",
       "    }\n",
       "</style>\n",
       "<table border=\"1\" class=\"dataframe\">\n",
       "  <thead>\n",
       "    <tr style=\"text-align: right;\">\n",
       "      <th></th>\n",
       "      <th>work</th>\n",
       "      <th>title</th>\n",
       "    </tr>\n",
       "  </thead>\n",
       "  <tbody>\n",
       "    <tr>\n",
       "      <th>0</th>\n",
       "      <td>ub1bL14C1</td>\n",
       "      <td>The Wall</td>\n",
       "    </tr>\n",
       "    <tr>\n",
       "      <th>1</th>\n",
       "      <td>ub1bL5C1</td>\n",
       "      <td>The Dark Side of the Moon</td>\n",
       "    </tr>\n",
       "    <tr>\n",
       "      <th>2</th>\n",
       "      <td>ub1bL23C1</td>\n",
       "      <td>What God Wants, Part 1</td>\n",
       "    </tr>\n",
       "  </tbody>\n",
       "</table>\n",
       "</div>"
      ],
      "text/plain": [
       "        work                      title\n",
       "0  ub1bL14C1                   The Wall\n",
       "1   ub1bL5C1  The Dark Side of the Moon\n",
       "2  ub1bL23C1     What God Wants, Part 1"
      ]
     },
     "metadata": {},
     "output_type": "display_data"
    }
   ],
   "source": [
    "query(\"\"\"\n",
    "SELECT ?work ?title WHERE { \n",
    "  ?work ex:title ?title\n",
    "}\n",
    "\"\"\")"
   ]
  },
  {
   "cell_type": "code",
   "execution_count": 5,
   "metadata": {
    "deletable": false
   },
   "outputs": [
    {
     "data": {
      "text/html": [
       "<div>\n",
       "<style scoped>\n",
       "    .dataframe tbody tr th:only-of-type {\n",
       "        vertical-align: middle;\n",
       "    }\n",
       "\n",
       "    .dataframe tbody tr th {\n",
       "        vertical-align: top;\n",
       "    }\n",
       "\n",
       "    .dataframe thead th {\n",
       "        text-align: right;\n",
       "    }\n",
       "</style>\n",
       "<table border=\"1\" class=\"dataframe\">\n",
       "  <thead>\n",
       "    <tr style=\"text-align: right;\">\n",
       "      <th></th>\n",
       "      <th>title</th>\n",
       "    </tr>\n",
       "  </thead>\n",
       "  <tbody>\n",
       "    <tr>\n",
       "      <th>0</th>\n",
       "      <td>The Dark Side of the Moon</td>\n",
       "    </tr>\n",
       "    <tr>\n",
       "      <th>1</th>\n",
       "      <td>The Wall</td>\n",
       "    </tr>\n",
       "    <tr>\n",
       "      <th>2</th>\n",
       "      <td>What God Wants, Part 1</td>\n",
       "    </tr>\n",
       "  </tbody>\n",
       "</table>\n",
       "</div>"
      ],
      "text/plain": [
       "                       title\n",
       "0  The Dark Side of the Moon\n",
       "1                   The Wall\n",
       "2     What God Wants, Part 1"
      ]
     },
     "metadata": {},
     "output_type": "display_data"
    }
   ],
   "source": [
    "query(\"\"\"\n",
    "SELECT ?title WHERE { \n",
    "  [] ex:title ?title\n",
    "}\n",
    "\"\"\")\n",
    "\n",
    "# Was ist der Unterschied zum vorherigem Beispiel? Antwort: Hier wurde nur nach den Predicaten namens 'ex:title' mit der Variable als Object gefiltert. Oben wird auch nach 'work' gesucht."
   ]
  },
  {
   "cell_type": "code",
   "execution_count": 6,
   "metadata": {
    "deletable": false
   },
   "outputs": [
    {
     "data": {
      "text/html": [
       "<div>\n",
       "<style scoped>\n",
       "    .dataframe tbody tr th:only-of-type {\n",
       "        vertical-align: middle;\n",
       "    }\n",
       "\n",
       "    .dataframe tbody tr th {\n",
       "        vertical-align: top;\n",
       "    }\n",
       "\n",
       "    .dataframe thead th {\n",
       "        text-align: right;\n",
       "    }\n",
       "</style>\n",
       "<table border=\"1\" class=\"dataframe\">\n",
       "  <thead>\n",
       "    <tr style=\"text-align: right;\">\n",
       "      <th></th>\n",
       "      <th>title</th>\n",
       "    </tr>\n",
       "  </thead>\n",
       "  <tbody>\n",
       "    <tr>\n",
       "      <th>0</th>\n",
       "      <td>The Dark Side of the Moon</td>\n",
       "    </tr>\n",
       "    <tr>\n",
       "      <th>1</th>\n",
       "      <td>The Wall</td>\n",
       "    </tr>\n",
       "  </tbody>\n",
       "</table>\n",
       "</div>"
      ],
      "text/plain": [
       "                       title\n",
       "0  The Dark Side of the Moon\n",
       "1                   The Wall"
      ]
     },
     "metadata": {},
     "output_type": "display_data"
    }
   ],
   "source": [
    "query(\"\"\"\n",
    "SELECT ?title WHERE { \n",
    "  [] rdf:type ex:Album ; \n",
    "     ex:title ?title\n",
    "}\n",
    "\"\"\")\n",
    "\n",
    "# Warum nur zwei Resultate? Antwort: Weil bei dem ersten graph pattern nach dem Object Album gefiltert wird."
   ]
  },
  {
   "cell_type": "code",
   "execution_count": 7,
   "metadata": {
    "deletable": false
   },
   "outputs": [
    {
     "data": {
      "text/html": [
       "<div>\n",
       "<style scoped>\n",
       "    .dataframe tbody tr th:only-of-type {\n",
       "        vertical-align: middle;\n",
       "    }\n",
       "\n",
       "    .dataframe tbody tr th {\n",
       "        vertical-align: top;\n",
       "    }\n",
       "\n",
       "    .dataframe thead th {\n",
       "        text-align: right;\n",
       "    }\n",
       "</style>\n",
       "<table border=\"1\" class=\"dataframe\">\n",
       "  <thead>\n",
       "    <tr style=\"text-align: right;\">\n",
       "      <th></th>\n",
       "      <th>s</th>\n",
       "      <th>p</th>\n",
       "      <th>o</th>\n",
       "    </tr>\n",
       "  </thead>\n",
       "  <tbody>\n",
       "    <tr>\n",
       "      <th>0</th>\n",
       "      <td>ub1bL23C1</td>\n",
       "      <td>http://example.org#title</td>\n",
       "      <td>What God Wants, Part 1</td>\n",
       "    </tr>\n",
       "    <tr>\n",
       "      <th>1</th>\n",
       "      <td>ub1bL5C1</td>\n",
       "      <td>http://www.w3.org/1999/02/22-rdf-syntax-ns#type</td>\n",
       "      <td>http://example.org#Album</td>\n",
       "    </tr>\n",
       "    <tr>\n",
       "      <th>2</th>\n",
       "      <td>ub1bL17C16</td>\n",
       "      <td>http://example.org#day</td>\n",
       "      <td>30</td>\n",
       "    </tr>\n",
       "    <tr>\n",
       "      <th>3</th>\n",
       "      <td>ub1bL23C1</td>\n",
       "      <td>http://www.w3.org/1999/02/22-rdf-syntax-ns#type</td>\n",
       "      <td>http://example.org#Single</td>\n",
       "    </tr>\n",
       "    <tr>\n",
       "      <th>4</th>\n",
       "      <td>ub1bL8C16</td>\n",
       "      <td>http://example.org#year</td>\n",
       "      <td>1973</td>\n",
       "    </tr>\n",
       "    <tr>\n",
       "      <th>5</th>\n",
       "      <td>ub1bL14C1</td>\n",
       "      <td>http://example.org#label</td>\n",
       "      <td>Harvest, EMI</td>\n",
       "    </tr>\n",
       "    <tr>\n",
       "      <th>6</th>\n",
       "      <td>ub1bL23C1</td>\n",
       "      <td>http://example.org#author</td>\n",
       "      <td>ub1bL25C14</td>\n",
       "    </tr>\n",
       "    <tr>\n",
       "      <th>7</th>\n",
       "      <td>ub1bL5C1</td>\n",
       "      <td>http://example.org#label</td>\n",
       "      <td>Harvest, EMI</td>\n",
       "    </tr>\n",
       "    <tr>\n",
       "      <th>8</th>\n",
       "      <td>ub1bL8C16</td>\n",
       "      <td>http://example.org#month</td>\n",
       "      <td>3</td>\n",
       "    </tr>\n",
       "    <tr>\n",
       "      <th>9</th>\n",
       "      <td>ub1bL25C14</td>\n",
       "      <td>http://example.org#firstname</td>\n",
       "      <td>Roger</td>\n",
       "    </tr>\n",
       "    <tr>\n",
       "      <th>10</th>\n",
       "      <td>ub1bL5C1</td>\n",
       "      <td>http://example.org#released</td>\n",
       "      <td>ub1bL8C16</td>\n",
       "    </tr>\n",
       "    <tr>\n",
       "      <th>11</th>\n",
       "      <td>ub1bL25C14</td>\n",
       "      <td>http://example.org#lastname</td>\n",
       "      <td>Waters</td>\n",
       "    </tr>\n",
       "    <tr>\n",
       "      <th>12</th>\n",
       "      <td>ub1bL5C1</td>\n",
       "      <td>http://example.org#title</td>\n",
       "      <td>The Dark Side of the Moon</td>\n",
       "    </tr>\n",
       "    <tr>\n",
       "      <th>13</th>\n",
       "      <td>ub1bL14C1</td>\n",
       "      <td>http://example.org#released</td>\n",
       "      <td>ub1bL17C16</td>\n",
       "    </tr>\n",
       "    <tr>\n",
       "      <th>14</th>\n",
       "      <td>ub1bL8C16</td>\n",
       "      <td>http://example.org#day</td>\n",
       "      <td>16</td>\n",
       "    </tr>\n",
       "    <tr>\n",
       "      <th>15</th>\n",
       "      <td>ub1bL14C1</td>\n",
       "      <td>http://example.org#title</td>\n",
       "      <td>The Wall</td>\n",
       "    </tr>\n",
       "    <tr>\n",
       "      <th>16</th>\n",
       "      <td>ub1bL17C16</td>\n",
       "      <td>http://example.org#month</td>\n",
       "      <td>11</td>\n",
       "    </tr>\n",
       "    <tr>\n",
       "      <th>17</th>\n",
       "      <td>ub1bL23C1</td>\n",
       "      <td>http://example.org#released</td>\n",
       "      <td>ub1bL29C16</td>\n",
       "    </tr>\n",
       "    <tr>\n",
       "      <th>18</th>\n",
       "      <td>ub1bL17C16</td>\n",
       "      <td>http://example.org#year</td>\n",
       "      <td>1979</td>\n",
       "    </tr>\n",
       "    <tr>\n",
       "      <th>19</th>\n",
       "      <td>ub1bL14C1</td>\n",
       "      <td>http://www.w3.org/1999/02/22-rdf-syntax-ns#type</td>\n",
       "      <td>http://example.org#Album</td>\n",
       "    </tr>\n",
       "    <tr>\n",
       "      <th>20</th>\n",
       "      <td>ub1bL29C16</td>\n",
       "      <td>http://example.org#year</td>\n",
       "      <td>1992</td>\n",
       "    </tr>\n",
       "  </tbody>\n",
       "</table>\n",
       "</div>"
      ],
      "text/plain": [
       "             s                                                p  \\\n",
       "0    ub1bL23C1                         http://example.org#title   \n",
       "1     ub1bL5C1  http://www.w3.org/1999/02/22-rdf-syntax-ns#type   \n",
       "2   ub1bL17C16                           http://example.org#day   \n",
       "3    ub1bL23C1  http://www.w3.org/1999/02/22-rdf-syntax-ns#type   \n",
       "4    ub1bL8C16                          http://example.org#year   \n",
       "5    ub1bL14C1                         http://example.org#label   \n",
       "6    ub1bL23C1                        http://example.org#author   \n",
       "7     ub1bL5C1                         http://example.org#label   \n",
       "8    ub1bL8C16                         http://example.org#month   \n",
       "9   ub1bL25C14                     http://example.org#firstname   \n",
       "10    ub1bL5C1                      http://example.org#released   \n",
       "11  ub1bL25C14                      http://example.org#lastname   \n",
       "12    ub1bL5C1                         http://example.org#title   \n",
       "13   ub1bL14C1                      http://example.org#released   \n",
       "14   ub1bL8C16                           http://example.org#day   \n",
       "15   ub1bL14C1                         http://example.org#title   \n",
       "16  ub1bL17C16                         http://example.org#month   \n",
       "17   ub1bL23C1                      http://example.org#released   \n",
       "18  ub1bL17C16                          http://example.org#year   \n",
       "19   ub1bL14C1  http://www.w3.org/1999/02/22-rdf-syntax-ns#type   \n",
       "20  ub1bL29C16                          http://example.org#year   \n",
       "\n",
       "                            o  \n",
       "0      What God Wants, Part 1  \n",
       "1    http://example.org#Album  \n",
       "2                          30  \n",
       "3   http://example.org#Single  \n",
       "4                        1973  \n",
       "5                Harvest, EMI  \n",
       "6                  ub1bL25C14  \n",
       "7                Harvest, EMI  \n",
       "8                           3  \n",
       "9                       Roger  \n",
       "10                  ub1bL8C16  \n",
       "11                     Waters  \n",
       "12  The Dark Side of the Moon  \n",
       "13                 ub1bL17C16  \n",
       "14                         16  \n",
       "15                   The Wall  \n",
       "16                         11  \n",
       "17                 ub1bL29C16  \n",
       "18                       1979  \n",
       "19   http://example.org#Album  \n",
       "20                       1992  "
      ]
     },
     "metadata": {},
     "output_type": "display_data"
    }
   ],
   "source": [
    "query(\"\"\"\n",
    "SELECT ?s ?p ?o WHERE { \n",
    "  ?s ?p ?o\n",
    "}\n",
    "\"\"\")\n",
    "\n",
    "# Was erhält man hier? Antwort: Die gesamte Tripelmenge der RDF"
   ]
  },
  {
   "cell_type": "code",
   "execution_count": null,
   "metadata": {
    "deletable": false
   },
   "outputs": [],
   "source": [
    "query(\"\"\"\n",
    "SELECT ?title ?year WHERE { \n",
    "  [] rdf:type ex:Album ; \n",
    "     ex:title ?title ;\n",
    "     ex:released [ ex:year ?year ]\n",
    "  FILTER (?year > 1973)\n",
    "}\n",
    "\"\"\")"
   ]
  },
  {
   "cell_type": "code",
   "execution_count": null,
   "metadata": {
    "deletable": false
   },
   "outputs": [],
   "source": [
    "query(\"\"\"\n",
    "SELECT ?title ?year WHERE { \n",
    "  {\n",
    "    [] rdf:type ex:Album ; \n",
    "       ex:title ?title ;\n",
    "       ex:released [ ex:year ?year ]\n",
    "    FILTER (?year > 1973)\n",
    "  }\n",
    "  UNION\n",
    "  {\n",
    "    [] rdf:type ex:Single ; \n",
    "       ex:title ?title ;\n",
    "       ex:released [ ex:year ?year ]\n",
    "    FILTER (?year <= 2000 )\n",
    "  }\n",
    "}\n",
    "\"\"\")"
   ]
  },
  {
   "cell_type": "code",
   "execution_count": 8,
   "metadata": {
    "deletable": false
   },
   "outputs": [
    {
     "data": {
      "text/html": [
       "<div>\n",
       "<style scoped>\n",
       "    .dataframe tbody tr th:only-of-type {\n",
       "        vertical-align: middle;\n",
       "    }\n",
       "\n",
       "    .dataframe tbody tr th {\n",
       "        vertical-align: top;\n",
       "    }\n",
       "\n",
       "    .dataframe thead th {\n",
       "        text-align: right;\n",
       "    }\n",
       "</style>\n",
       "<table border=\"1\" class=\"dataframe\">\n",
       "  <thead>\n",
       "    <tr style=\"text-align: right;\">\n",
       "      <th></th>\n",
       "      <th>title</th>\n",
       "      <th>label</th>\n",
       "    </tr>\n",
       "  </thead>\n",
       "  <tbody>\n",
       "    <tr>\n",
       "      <th>0</th>\n",
       "      <td>The Wall</td>\n",
       "      <td>Harvest, EMI</td>\n",
       "    </tr>\n",
       "    <tr>\n",
       "      <th>1</th>\n",
       "      <td>The Dark Side of the Moon</td>\n",
       "      <td>Harvest, EMI</td>\n",
       "    </tr>\n",
       "    <tr>\n",
       "      <th>2</th>\n",
       "      <td>What God Wants, Part 1</td>\n",
       "      <td>NaN</td>\n",
       "    </tr>\n",
       "  </tbody>\n",
       "</table>\n",
       "</div>"
      ],
      "text/plain": [
       "                       title         label\n",
       "0                   The Wall  Harvest, EMI\n",
       "1  The Dark Side of the Moon  Harvest, EMI\n",
       "2     What God Wants, Part 1           NaN"
      ]
     },
     "metadata": {},
     "output_type": "display_data"
    }
   ],
   "source": [
    "query(\"\"\"\n",
    "SELECT ?title ?label WHERE { \n",
    "    ?work ex:title ?title .\n",
    "    OPTIONAL { ?work ex:label ?label }\n",
    "}\n",
    "\"\"\")\n",
    "\n",
    "# Warum ist der label von \"What God Wants, Part 1\" NaN? Antwort: Weil die Filterung nach dem Predicat 'ex:label' mit dem Object als Variable nur optional ist. Die letzte RDF hat aber kein Object mit dem Namen 'label'. "
   ]
  },
  {
   "cell_type": "code",
   "execution_count": null,
   "metadata": {
    "deletable": false
   },
   "outputs": [],
   "source": [
    "query(\"\"\"\n",
    "SELECT ?title WHERE { \n",
    "  [] rdf:type ex:Album ;\n",
    "     ex:title ?title ;\n",
    "     ex:label ?label\n",
    "  FILTER (LANG(?label) = \"en\")\n",
    "}\n",
    "\"\"\")"
   ]
  },
  {
   "cell_type": "code",
   "execution_count": null,
   "metadata": {
    "deletable": false
   },
   "outputs": [],
   "source": [
    "query(\"\"\"\n",
    "SELECT ?title WHERE { \n",
    "  [] rdf:type ex:Album ;\n",
    "     ex:title ?title ;\n",
    "     ex:released [ ex:day ?day ]\n",
    "  FILTER (?day > 15)\n",
    "}\n",
    "\"\"\")"
   ]
  },
  {
   "cell_type": "code",
   "execution_count": 9,
   "metadata": {
    "deletable": false
   },
   "outputs": [
    {
     "data": {
      "text/html": [
       "<div>\n",
       "<style scoped>\n",
       "    .dataframe tbody tr th:only-of-type {\n",
       "        vertical-align: middle;\n",
       "    }\n",
       "\n",
       "    .dataframe tbody tr th {\n",
       "        vertical-align: top;\n",
       "    }\n",
       "\n",
       "    .dataframe thead th {\n",
       "        text-align: right;\n",
       "    }\n",
       "</style>\n",
       "<table border=\"1\" class=\"dataframe\">\n",
       "  <thead>\n",
       "    <tr style=\"text-align: right;\">\n",
       "      <th></th>\n",
       "      <th>title</th>\n",
       "    </tr>\n",
       "  </thead>\n",
       "  <tbody>\n",
       "    <tr>\n",
       "      <th>0</th>\n",
       "      <td>The Wall</td>\n",
       "    </tr>\n",
       "  </tbody>\n",
       "</table>\n",
       "</div>"
      ],
      "text/plain": [
       "      title\n",
       "0  The Wall"
      ]
     },
     "metadata": {},
     "output_type": "display_data"
    }
   ],
   "source": [
    "query(\"\"\"\n",
    "SELECT ?title WHERE { \n",
    "  [] rdf:type ex:Album ;\n",
    "     ex:title ?title ;\n",
    "     ex:released [ ex:month ?month ]\n",
    "  FILTER (DATATYPE(?month) = xsd:string)\n",
    "}\n",
    "\"\"\")\n",
    "\n",
    "# Warum erhält man hier nur \"The Wall\" als Resultat? Antwort: Da bei dem ersten RDF Dokument das Object 'month' den Datetyp int hat. Hier ist aber nicht dem Datentyp string gefiltert."
   ]
  },
  {
   "cell_type": "markdown",
   "metadata": {
    "deletable": false
   },
   "source": [
    "Schreiben Sie nun ihr eigenes RDF und werten Sie einige SPARQL Abfragen aus."
   ]
  },
  {
   "cell_type": "code",
   "execution_count": 10,
   "metadata": {
    "deletable": false
   },
   "outputs": [
    {
     "name": "stderr",
     "output_type": "stream",
     "text": [
      "rdf:Description rdf:about=\"http://example.org#Einkaufsliste\" does not look like a valid URI, trying to serialize this will break.\n",
      "ex:Backzutaten rdf:parseType=\"Collection\" does not look like a valid URI, trying to serialize this will break.\n",
      "rdf:Description rdf:about=\"http://www.example.org/Brot\"/ does not look like a valid URI, trying to serialize this will break.\n"
     ]
    },
    {
     "ename": "BadSyntax",
     "evalue": "at line 5 of <>:\nBad syntax (expected '.' or '}' or ']' at end of statement) at ^ in:\n\"...b'scription rdf:about=\"http://www.example.org/Brot\"/>\\n        '^b'<rdf:Description rdf:about=\"http://www.example.org/Mehl\" />\\n'...\"",
     "output_type": "error",
     "traceback": [
      "Traceback \u001b[1;36m(most recent call last)\u001b[0m:\n",
      "  File \u001b[0;32m\"C:\\Users\\Uni\\Anaconda3\\lib\\site-packages\\IPython\\core\\interactiveshell.py\"\u001b[0m, line \u001b[0;32m2910\u001b[0m, in \u001b[0;35mrun_code\u001b[0m\n    exec(code_obj, self.user_global_ns, self.user_ns)\n",
      "  File \u001b[0;32m\"<ipython-input-10-e69c16a4ce44>\"\u001b[0m, line \u001b[0;32m15\u001b[0m, in \u001b[0;35m<module>\u001b[0m\n    r = g.parse(data=rdf, format='turtle')\n",
      "  File \u001b[0;32m\"C:\\Users\\Uni\\Anaconda3\\lib\\site-packages\\rdflib\\graph.py\"\u001b[0m, line \u001b[0;32m1043\u001b[0m, in \u001b[0;35mparse\u001b[0m\n    parser.parse(source, self, **args)\n",
      "  File \u001b[0;32m\"C:\\Users\\Uni\\Anaconda3\\lib\\site-packages\\rdflib\\plugins\\parsers\\notation3.py\"\u001b[0m, line \u001b[0;32m1870\u001b[0m, in \u001b[0;35mparse\u001b[0m\n    p.loadStream(source.getByteStream())\n",
      "  File \u001b[0;32m\"C:\\Users\\Uni\\Anaconda3\\lib\\site-packages\\rdflib\\plugins\\parsers\\notation3.py\"\u001b[0m, line \u001b[0;32m434\u001b[0m, in \u001b[0;35mloadStream\u001b[0m\n    return self.loadBuf(stream.read())    # Not ideal\n",
      "  File \u001b[0;32m\"C:\\Users\\Uni\\Anaconda3\\lib\\site-packages\\rdflib\\plugins\\parsers\\notation3.py\"\u001b[0m, line \u001b[0;32m440\u001b[0m, in \u001b[0;35mloadBuf\u001b[0m\n    self.feed(buf)\n",
      "  File \u001b[0;32m\"C:\\Users\\Uni\\Anaconda3\\lib\\site-packages\\rdflib\\plugins\\parsers\\notation3.py\"\u001b[0m, line \u001b[0;32m466\u001b[0m, in \u001b[0;35mfeed\u001b[0m\n    i = self.directiveOrStatement(s, j)\n",
      "  File \u001b[0;32m\"C:\\Users\\Uni\\Anaconda3\\lib\\site-packages\\rdflib\\plugins\\parsers\\notation3.py\"\u001b[0m, line \u001b[0;32m489\u001b[0m, in \u001b[0;35mdirectiveOrStatement\u001b[0m\n    return self.checkDot(argstr, j)\n",
      "  File \u001b[0;32m\"C:\\Users\\Uni\\Anaconda3\\lib\\site-packages\\rdflib\\plugins\\parsers\\notation3.py\"\u001b[0m, line \u001b[0;32m1159\u001b[0m, in \u001b[0;35mcheckDot\u001b[0m\n    \"expected '.' or '}' or ']' at end of statement\")\n",
      "\u001b[1;36m  File \u001b[1;32m\"C:\\Users\\Uni\\Anaconda3\\lib\\site-packages\\rdflib\\plugins\\parsers\\notation3.py\"\u001b[1;36m, line \u001b[1;32m1615\u001b[1;36m, in \u001b[1;35mBadSyntax\u001b[1;36m\u001b[0m\n\u001b[1;33m    raise BadSyntax(self._thisDoc, self.lines, argstr, i, msg)\u001b[0m\n",
      "\u001b[1;36m  File \u001b[1;32m\"<string>\"\u001b[1;36m, line \u001b[1;32munknown\u001b[0m\n\u001b[1;31mBadSyntax\u001b[0m\n"
     ]
    }
   ],
   "source": [
    "rdf = \"\"\"\n",
    "<rdf:Description rdf:about=\"http://example.org#Einkaufsliste\">\n",
    "    <ex:Backzutaten rdf:parseType=\"Collection\">\n",
    "        <rdf:Description rdf:about=\"http://www.example.org/Brot\"/>\n",
    "        <rdf:Description rdf:about=\"http://www.example.org/Mehl\" />\n",
    "        <rdf:Description rdf:about=\"http://www.example.org/Hefe\" />\n",
    "        <rdf:Description rdf:about=\"http://www.example.org/Olivenöl\" />\n",
    "        <rdf:Description rdf:about=\"http://www.example.org/Salz\" />\n",
    "    </ex:Backzutaten>\n",
    "</rdf:Description>\n",
    "\"\"\"\n",
    "\n",
    "g = Graph()\n",
    "\n",
    "r = g.parse(data=rdf, format='turtle')"
   ]
  },
  {
   "cell_type": "code",
   "execution_count": null,
   "metadata": {
    "deletable": false
   },
   "outputs": [],
   "source": [
    "query(\"\"\"\n",
    "... Meine SPARQL Abfrage ...\n",
    "\"\"\")"
   ]
  }
 ],
 "metadata": {
  "kernelspec": {
   "display_name": "Python 3",
   "language": "python",
   "name": "python3"
  },
  "language_info": {
   "codemirror_mode": {
    "name": "ipython",
    "version": 3
   },
   "file_extension": ".py",
   "mimetype": "text/x-python",
   "name": "python",
   "nbconvert_exporter": "python",
   "pygments_lexer": "ipython3",
   "version": "3.6.4"
  }
 },
 "nbformat": 4,
 "nbformat_minor": 2
}
