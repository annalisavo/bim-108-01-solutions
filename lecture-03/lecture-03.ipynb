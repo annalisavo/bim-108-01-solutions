{
 "cells": [
  {
   "cell_type": "markdown",
   "metadata": {
    "deletable": false
   },
   "source": [
    "# XPath\n",
    "\n",
    "XPath ist eine Sprache zur Verarbeitung von XML Dokumenten. Man kann damit auf Teile eines XML Dokuments zugreifen, durch Elemente und Attribute navigieren, Elemente und Inhalte selektieren, wie auch einfache Operationen auf Inhalten durchführen. In dieser Übung lernen wir XPath anhand praktischen Beispiele besser kennen."
   ]
  },
  {
   "cell_type": "markdown",
   "metadata": {
    "deletable": false
   },
   "source": [
    "Schauen Sie sich die folgenden Beispiele an. \n",
    "\n",
    "Dort wo `# Erklärung:` steht, schreiben Sie Ihre Erklärung für das Resultat."
   ]
  },
  {
   "cell_type": "code",
   "execution_count": 2,
   "metadata": {
    "deletable": false
   },
   "outputs": [],
   "source": [
    "from lxml import etree as et\n",
    "\n",
    "doc = et.fromstring(\"\"\"\n",
    "<discography>\n",
    "  <albums>\n",
    "    <album>\n",
    "      <!-- The 26th best-selling album of all time -->\n",
    "      <title released=\"1973\">The Dark Side of the Moon</title>\n",
    "      <label>Harvest, EMI</label>\n",
    "      <released>\n",
    "        <day>16</day>\n",
    "        <month>03</month>\n",
    "        <year>1973</year>\n",
    "      </released>\n",
    "    </album>\n",
    "    <album>\n",
    "      <!-- The 5th best-selling album of all time -->\n",
    "      <title released=\"1979\">The Wall</title>\n",
    "      <label>Harvest, EMI</label>\n",
    "      <released>\n",
    "        <day>30</day>\n",
    "        <month>11</month>\n",
    "        <year>1979</year> \n",
    "      </released>\n",
    "    </album>\n",
    "  </albums>\n",
    "  <singles>\n",
    "    <single>\n",
    "      <author name=\"Roger Waters\">\n",
    "        <firstname>Roger</firstname>\n",
    "        <lastname>Waters</lastname>\n",
    "      </author>\n",
    "      <title released=\"1992\">What God Wants, Part 1</title>\n",
    "    </single>\n",
    "  </singles>\n",
    "</discography>\n",
    "\"\"\")\n",
    "\n",
    "def e(p):\n",
    "    print('{}'.format(p))\n",
    "    return doc.xpath(p)\n",
    "\n",
    "def p(s):\n",
    "    print('  -> {}\\n'.format(s))"
   ]
  },
  {
   "cell_type": "code",
   "execution_count": 2,
   "metadata": {
    "deletable": false
   },
   "outputs": [
    {
     "name": "stdout",
     "output_type": "stream",
     "text": [
      "/child::discography\n",
      "  -> [<Element discography at 0x2567045ff48>]\n",
      "\n"
     ]
    }
   ],
   "source": [
    "# Jede Zeile ist ein XPath welcher auf dem obigen XML Dokument evaluiert wird. \n",
    "# Das Resultat wird nach Ausführung unten angezeigt.\n",
    "p(e('/child::discography')) # Erklärung: das child - Element ist hier 'discography'"
   ]
  },
  {
   "cell_type": "code",
   "execution_count": 3,
   "metadata": {
    "deletable": false
   },
   "outputs": [
    {
     "name": "stdout",
     "output_type": "stream",
     "text": [
      "/discography\n",
      "  -> discography\n",
      "\n",
      "/child::*\n",
      "  -> [<Element discography at 0x2567045ff48>]\n",
      "\n",
      "/discography/*\n",
      "  -> [<Element albums at 0x2567047e6c8>, <Element singles at 0x2567047e688>]\n",
      "\n",
      "/albums\n",
      "  -> []\n",
      "\n"
     ]
    }
   ],
   "source": [
    "# Hier werden vier XPath evaluiert mit entsprechend vier Resultate\n",
    "p(e('/discography')[0].tag) # Erklärung: Hier wird der nullte Knotenpunkt aus dem child - ELement mit dem Namen 'discography'\n",
    "                            # lokalisiert, dies sind Prädikate und werden in eckigen Klammern geschrieben.\n",
    "p(e('/child::*'))\n",
    "p(e('/discography/*'))\n",
    "p(e('/albums')) # Erklärung: Das Element 'albums' ist kein child - Element, als erstes muss immer das child - Element angegeben werden!\n",
    "                # Hier wird nichts angegeben, denn es ist kein child - Element mit dem Namen 'albums' vorhanden"
   ]
  },
  {
   "cell_type": "code",
   "execution_count": 4,
   "metadata": {
    "deletable": false
   },
   "outputs": [
    {
     "name": "stdout",
     "output_type": "stream",
     "text": [
      "/child::discography/child::albums/child::album\n",
      "  -> [<Element album at 0x2566f3bcb88>, <Element album at 0x2567047e908>]\n",
      "\n",
      "/discography/albums/album\n",
      "  -> [<Element album at 0x2567047e948>, <Element album at 0x2567047e988>]\n",
      "\n",
      "/discography/albums/album/.\n",
      "  -> [<Element album at 0x2566f3bcb88>, <Element album at 0x2567047e988>]\n",
      "\n",
      "/discography/albums/album\n",
      "  -> <Element album at 0x2567047e988>\n",
      "\n",
      "/discography/albums/album\n",
      "  -> album\n",
      "\n",
      "/discographie/albums/album\n",
      "  -> []\n",
      "\n"
     ]
    }
   ],
   "source": [
    "p(e('/child::discography/child::albums/child::album'))\n",
    "# Warum ergibt dies das gleiche Resultat wie der vorherige XPath?\n",
    "# Man kann Lokalisierungspfade auf zwei unterschiedlichen Wegen angeben, der zweite Path ist nur die verkürzte Version von dem \n",
    "# ausführlichem ersten Path.\n",
    "# Schauen Sie nicht auf die 0x... Nummern.\n",
    "p(e('/discography/albums/album')) # Erklärung: siehe oben, verkürzte Version wobei die einzelnen Knoten mit einem '/' getrennt werden\n",
    "p(e('/discography/albums/album/.'))\n",
    "p(e('/discography/albums/album')[0])\n",
    "p(e('/discography/albums/album')[1].tag) # Erklärung: Hier wird nach dem ersten Knotenpunkt von dem tag 'album' lokalisiert\n",
    "p(e('/discographie/albums/album'))"
   ]
  },
  {
   "cell_type": "code",
   "execution_count": 6,
   "metadata": {
    "deletable": false
   },
   "outputs": [
    {
     "name": "stdout",
     "output_type": "stream",
     "text": [
      "child::singles\n",
      "  -> [<Element singles at 0x2567047ef88>]\n",
      "\n",
      "singles\n",
      "  -> [<Element singles at 0x2567047ef88>]\n",
      "\n",
      "./singles\n",
      "  -> [<Element singles at 0x2566f3fc4c8>]\n",
      "\n",
      "albums/album\n",
      "  -> [<Element album at 0x2566f3bcc08>, <Element album at 0x2566f3fc4c8>]\n",
      "\n"
     ]
    }
   ],
   "source": [
    "p(e('child::singles'))\n",
    "p(e('singles'))\n",
    "p(e('./singles')) # Erklärung: Hier wird nach dem Kontextknoten 'singles' selber lokalisiert,\n",
    "# unabhängig der child - Elemente\n",
    "p(e('albums/album'))"
   ]
  },
  {
   "cell_type": "code",
   "execution_count": 5,
   "metadata": {},
   "outputs": [
    {
     "name": "stdout",
     "output_type": "stream",
     "text": [
      "//singles\n",
      "  -> [<Element singles at 0x2567047edc8>]\n",
      "\n",
      "//album\n",
      "  -> [<Element album at 0x2567047edc8>, <Element album at 0x2567047ee08>]\n",
      "\n",
      "//day\n",
      "  -> 30\n",
      "\n",
      "//day/text()\n",
      "  -> ['16', '30']\n",
      "\n",
      "//@released\n",
      "  -> ['1973', '1979', '1992']\n",
      "\n",
      "//@*\n",
      "  -> ['1973', '1979', 'Roger Waters', '1992']\n",
      "\n",
      "@*\n",
      "  -> []\n",
      "\n"
     ]
    }
   ],
   "source": [
    "p(e('//singles'))\n",
    "p(e('//album'))\n",
    "p(e('//day')[1].text) # Erklärung: Der erste Knotenpunkt in Text-form wird lokalisiert,\n",
    "# hier '30'. Der nullte wäre hier '16'\n",
    "p(e('//day/text()'))\n",
    "p(e('//@released'))\n",
    "p(e('//@*'))\n",
    "# Inwiefern ist der folgende XPath anders als der vorherige? \n",
    "# Im vorherigen XPath werden alle Attribute selbst als Knotenpunkt oder als Nachkommen des child - Elements lokalisiert. \n",
    "p(e('@*')) # Erklärung: Hier werden zwar auch alle Attribute lokalisiert, jedoch wird nicht definiert in welchem Strang"
   ]
  },
  {
   "cell_type": "code",
   "execution_count": 7,
   "metadata": {
    "deletable": false
   },
   "outputs": [
    {
     "name": "stdout",
     "output_type": "stream",
     "text": [
      "descendant::*\n",
      "  -> [<Element albums at 0x2567047e648>, <Element album at 0x2567047e6c8>, <Element title at 0x2567047eb88>, <Element label at 0x2567047ee48>, <Element released at 0x2567047e208>, <Element day at 0x2567049a088>, <Element month at 0x2567049a0c8>, <Element year at 0x2567049a108>, <Element album at 0x2567049a148>, <Element title at 0x2567049a048>, <Element label at 0x2567049a188>, <Element released at 0x2567049a1c8>, <Element day at 0x2567049a208>, <Element month at 0x2567049a248>, <Element year at 0x2567049a288>, <Element singles at 0x2567049a2c8>, <Element single at 0x2567049a308>, <Element author at 0x2567049a348>, <Element firstname at 0x2567049a388>, <Element lastname at 0x2567049a3c8>, <Element title at 0x2567049a408>]\n",
      "\n",
      "descendant::*/album[1]/title\n",
      "  -> The Dark Side of the Moon\n",
      "\n",
      "descendant::*/album[2]/title/text()\n",
      "  -> ['The Wall']\n",
      "\n",
      "descendant::*/album[2]/title/text()\n",
      "  -> The Wall\n",
      "\n"
     ]
    }
   ],
   "source": [
    "p(e('descendant::*')) # Erklärung: Alle Nachkommen des child - Elements werden lokalisiert\n",
    "p(e('descendant::*/album[1]/title')[0].text)\n",
    "p(e('descendant::*/album[2]/title/text()'))\n",
    "p(e('descendant::*/album[2]/title/text()')[0]) # Erklärung: Das nullte 'text' Element, des Vorfahren 'title',\n",
    "                                               # des zweiten Vorfahren 'album'"
   ]
  },
  {
   "cell_type": "code",
   "execution_count": 8,
   "metadata": {
    "deletable": false
   },
   "outputs": [
    {
     "name": "stdout",
     "output_type": "stream",
     "text": [
      "/*/albums/album[1]/title/child::text()\n",
      "  -> ['The Dark Side of the Moon']\n",
      "\n",
      "/descendant::*/album[1]/title/child::text()\n",
      "  -> The Dark Side of the Moon\n",
      "\n",
      "/descendant::*/singles/single[1]/title/text()\n",
      "  -> ['What God Wants, Part 1']\n",
      "\n",
      "/descendant::*/singles/single[2]/title/text()\n",
      "  -> []\n",
      "\n"
     ]
    }
   ],
   "source": [
    "p(e('/*/albums/album[1]/title/child::text()')) # Erklärung: Das 1. 'album' - Element wird angeschaut,\n",
    "# davon der 'title' und dann alle child - Textknoten\n",
    "p(e('/descendant::*/album[1]/title/child::text()')[0]) # Erklärung: Hier gucken wir uns erst alle Nach-\n",
    "# kommen des self - Knoten an und dann die Schritte der 1. Abfrage\n",
    "p(e('/descendant::*/singles/single[1]/title/text()'))\n",
    "p(e('/descendant::*/singles/single[2]/title/text()')) # Erklärung: Es gibt keinen zweiten 'single' - Tag in allen Nachkommen"
   ]
  },
  {
   "cell_type": "code",
   "execution_count": 9,
   "metadata": {
    "deletable": false
   },
   "outputs": [
    {
     "name": "stdout",
     "output_type": "stream",
     "text": [
      "/discography/albums/album/.\n",
      "  -> [<Element album at 0x2567047ee48>, <Element album at 0x2567047e208>]\n",
      "\n",
      "/discography/albums/album/..\n",
      "  -> [<Element albums at 0x2566ce66888>]\n",
      "\n",
      "/discography/albums/album[1]/title/following-sibling::*\n",
      "  -> [<Element label at 0x2566ce66888>, <Element released at 0x2567047ee48>]\n",
      "\n",
      "/discography/albums/album[1]/label/following-sibling::*\n",
      "  -> [<Element released at 0x2566ce66888>]\n",
      "\n",
      "/discography/albums/album[1]/released/preceding-sibling::*\n",
      "  -> [<Element title at 0x2566ce66888>, <Element label at 0x2567047ee48>]\n",
      "\n",
      "/discography/albums/album[1]/released/preceding-sibling::*/text()\n",
      "  -> ['The Dark Side of the Moon', 'Harvest, EMI']\n",
      "\n",
      "//album[1]/parent::node()/album[2]/title/text()\n",
      "  -> ['The Wall']\n",
      "\n",
      "album[1]/parent::node()/album[2]/title/text()\n",
      "  -> []\n",
      "\n"
     ]
    }
   ],
   "source": [
    "p(e('/discography/albums/album/.'))\n",
    "p(e('/discography/albums/album/..')) # Erklärung: Die zwei '..' geben an, das nach dem Eltern - Knoten lokalisiert wird \n",
    "p(e('/discography/albums/album[1]/title/following-sibling::*'))\n",
    "p(e('/discography/albums/album[1]/label/following-sibling::*'))\n",
    "p(e('/discography/albums/album[1]/released/preceding-sibling::*'))\n",
    "p(e('/discography/albums/album[1]/released/preceding-sibling::*/text()')) # Erklärung: Die vorgängigen\n",
    "# Geschwister des Schwester Knoten 'released' deren text - Inhalt wurden lokalisiert\n",
    "p(e('//album[1]/parent::node()/album[2]/title/text()')) # Erklärung: Zu erst schauen wir uns album auf der \n",
    "# 1. Position an, davon der Eltern - Knoten also 'albums' dann gehen wir zum 'album' auf der 2. Position\n",
    "# und hier werden die text - Inhalte vom 'title' lokalisiert\n",
    "p(e('album[1]/parent::node()/album[2]/title/text()'))"
   ]
  },
  {
   "cell_type": "code",
   "execution_count": 7,
   "metadata": {},
   "outputs": [
    {
     "name": "stdout",
     "output_type": "stream",
     "text": [
      "//album/title/text()\n",
      "  -> ['The Dark Side of the Moon', 'The Wall']\n",
      "\n",
      "//album/title/child::text()\n",
      "  -> ['The Dark Side of the Moon', 'The Wall']\n",
      "\n",
      "//album/comment()\n",
      "  -> [<!-- The 26th best-selling album of all time -->, <!-- The 5th best-selling album of all time -->]\n",
      "\n",
      "//album[1]/child::node()\n",
      "  -> ['\\n      ', <!-- The 26th best-selling album of all time -->, '\\n      ', <Element title at 0x277aac1f388>, '\\n      ', <Element label at 0x277aac1f348>, '\\n      ', <Element released at 0x277aac1f408>, '\\n    ']\n",
      "\n"
     ]
    }
   ],
   "source": [
    "p(e('//album/title/text()'))\n",
    "p(e('//album/title/child::text()'))\n",
    "p(e('//album/comment()'))\n",
    "p(e('//album[1]/child::node()')) # Erklärung: Alle child - Knoten des parent - Knoten 'album', sind hier der Kommentar, 'title'\n",
    "                                 # 'label' und das Element 'released'"
   ]
  },
  {
   "cell_type": "code",
   "execution_count": 8,
   "metadata": {
    "deletable": false
   },
   "outputs": [
    {
     "name": "stdout",
     "output_type": "stream",
     "text": [
      "/discography/albums/album/title[@released]\n",
      "  -> [<Element title at 0x277aabff788>, <Element title at 0x277aabffec8>]\n",
      "\n",
      "/discography/albums/album/title[@released=\"1979\"]\n",
      "  -> [<Element title at 0x277aabff788>]\n",
      "\n",
      "/discography/albums/album/title[@released=\"1979\"]/text()\n",
      "  -> ['The Wall']\n",
      "\n",
      "/discography/albums/album/title[@released=1979]/text()\n",
      "  -> ['The Wall']\n",
      "\n",
      "//album/title[@released=1973]/text() | //album/released[day=30]/../title/text()\n",
      "  -> ['The Dark Side of the Moon', 'The Wall']\n",
      "\n",
      "descendant::*[firstname]/@name\n",
      "  -> ['Roger Waters']\n",
      "\n",
      "descendant::*[firstname][@name=\"Roger Waters\"]/parent::single/title/text()\n",
      "  -> ['What God Wants, Part 1']\n",
      "\n"
     ]
    }
   ],
   "source": [
    "p(e('/discography/albums/album/title[@released]'))\n",
    "p(e('/discography/albums/album/title[@released=\"1979\"]')) # Erklärung: Hier wurde die Position von 'title' lokalisiert welcher\n",
    "                                                          # 1979 veröffentlicht wurde\n",
    "p(e('/discography/albums/album/title[@released=\"1979\"]/text()'))\n",
    "p(e('/discography/albums/album/title[@released=1979]/text()'))\n",
    "p(e('//album/title[@released=1973]/text() | //album/released[day=30]/../title/text()')) # Erklärung: Hier wurden zwei Lokalisie-\n",
    "# rungspfade mit einander verknüpft: der erste führt zum Textpfeld des 'title' welches 1973 veröffentlicht wurde und der andere\n",
    "# 'title' welcher am 30. Tag eines Monats veröffentlicht wurde             \n",
    "p(e('descendant::*[firstname]/@name'))\n",
    "p(e('descendant::*[firstname][@name=\"Roger Waters\"]/parent::single/title/text()')) # Erklärung: Es wurde nach dem Inhalt vom 'title'\n",
    "# Tag lokalisiert, mit dem Prädikat das ein Vorname gegeben ist und der Name 'Roger Waters' ist"
   ]
  },
  {
   "cell_type": "code",
   "execution_count": 9,
   "metadata": {
    "deletable": false
   },
   "outputs": [
    {
     "name": "stdout",
     "output_type": "stream",
     "text": [
      "count(albums)\n",
      "  -> 1.0\n",
      "\n",
      "count(albums/album)\n",
      "  -> 2.0\n",
      "\n",
      "//album[position()=1]/title/text()\n",
      "  -> ['The Dark Side of the Moon']\n",
      "\n",
      "//album[1]/title/text()\n",
      "  -> ['The Dark Side of the Moon']\n",
      "\n",
      "//album[position()>1]/title/text()\n",
      "  -> ['The Wall']\n",
      "\n",
      "//album[position()>=1]/title/text()\n",
      "  -> ['The Dark Side of the Moon', 'The Wall']\n",
      "\n",
      "//album[last()]/title/text()\n",
      "  -> ['The Wall']\n",
      "\n",
      "//album[starts-with(title, \"The D\")]/title/text()\n",
      "  -> ['The Dark Side of the Moon']\n",
      "\n",
      "//album[contains(title, \"Wall\")]/title/text()\n",
      "  -> ['The Wall']\n",
      "\n",
      "//album/released[not(year=1979)]/parent::node()/title/text()\n",
      "  -> ['The Dark Side of the Moon']\n",
      "\n"
     ]
    }
   ],
   "source": [
    "p(e('count(albums)'))\n",
    "p(e('count(albums/album)')) # Erklärung: Es wurden alle 'album' - tag innerhalb des 'albums' - tag gezählt\n",
    "p(e('//album[position()=1]/title/text()'))\n",
    "p(e('//album[1]/title/text()'))\n",
    "p(e('//album[position()>1]/title/text()')) # Erklärung: Hier wurde der text vom 'title' lokalisiert, wo die Position größer 1 liegt\n",
    "p(e('//album[position()>=1]/title/text()'))\n",
    "p(e('//album[last()]/title/text()'))\n",
    "p(e('//album[starts-with(title, \"The D\")]/title/text()')) # Erklärung: Der Inhalt des 'title' - tag soll mit 'The D' beginnen,\n",
    "# es wurden somit alle 'title' ausgegeben die dem Prädikat unterliegen\n",
    "p(e('//album[contains(title, \"Wall\")]/title/text()'))\n",
    "p(e('//album/released[not(year=1979)]/parent::node()/title/text()')) # Erklärung: Es wurden die 'title' lokalisiert, welche NICHT\n",
    "# im Jahr 1979 veröffentlicht wurden, zudem wurde auch nach dem Eltern - Knoten lokalisiert, deshalb wurde der obere 'title' aus-\n",
    "# gegeben und nicht der untere"
   ]
  },
  {
   "cell_type": "markdown",
   "metadata": {
    "deletable": false
   },
   "source": [
    "Und zum Schluss, ein Beispiel mit Namensräumen."
   ]
  },
  {
   "cell_type": "code",
   "execution_count": 6,
   "metadata": {},
   "outputs": [
    {
     "name": "stdout",
     "output_type": "stream",
     "text": [
      "[<Element {http://discography.org}discography at 0x277aaa8cd08>]\n",
      "[<Element {http://discography.org}discography at 0x277aaa8cd08>]\n",
      "[<Element {http://albums.org}albums at 0x277aac1f108>]\n",
      "[<Element {http://albums.org}albums at 0x277aaa8ccc8>]\n"
     ]
    }
   ],
   "source": [
    "from lxml import etree as et\n",
    "\n",
    "d = et.fromstring(\"\"\"\n",
    "<disc:discography xmlns:disc=\"http://discography.org\" xmlns:alb=\"http://albums.org\" xmlns=\"http://default.org\">\n",
    "<alb:albums>\n",
    "<alb:album title=\"The Dark Side of the Moon\" alb:year=\"1973\"/>\n",
    "</alb:albums>\n",
    "</disc:discography>\n",
    "\"\"\")\n",
    "\n",
    "print(d.xpath('/disc:discography', namespaces={'disc': 'http://discography.org'}))\n",
    "print(d.xpath('/*[local-name() = \"discography\"]'))\n",
    "print(d.xpath('/disc:discography/alb:albums', namespaces={'disc': 'http://discography.org', 'alb': 'http://albums.org'}))\n",
    "print(d.xpath('/*[local-name() = \"discography\"]/*[local-name() = \"albums\"]'))"
   ]
  },
  {
   "cell_type": "markdown",
   "metadata": {},
   "source": [
    "Denken Sie sich nun ein eigenes XML Dokument aus und testen Sie Ihre XPath Abfragen."
   ]
  },
  {
   "cell_type": "code",
   "execution_count": 36,
   "metadata": {
    "deletable": false
   },
   "outputs": [
    {
     "name": "stdout",
     "output_type": "stream",
     "text": [
      "['The Dark Side of the Moon', 'The Wall']\n",
      "['November']\n",
      "[<Element album at 0x277aac2ce08>, <Element album at 0x277aac2cfc8>]\n"
     ]
    }
   ],
   "source": [
    "from lxml import etree as et\n",
    "\n",
    "d = et.fromstring(\"\"\"\n",
    "<discography>\n",
    "    <albums>\n",
    "        <album>\n",
    "            <title>The Dark Side of the Moon</title>\n",
    "            <released year=\"1973\" month=\"March\" day=\"16\"/>\n",
    "        </album>\n",
    "        <album>\n",
    "            <title>The Wall</title>\n",
    "            <released>\n",
    "                <day>30</day>\n",
    "                <month>November</month>\n",
    "                <year>1979</year>\n",
    "            </released>\n",
    "        </album>\n",
    "    </albums>\n",
    "</discography>\n",
    "\"\"\")\n",
    "\n",
    "def e(p):\n",
    "    print('{}'.format(p))\n",
    "    return doc.xpath(p)\n",
    "\n",
    "def p(s):\n",
    "    print('  -> {}\\n'.format(s))\n",
    "\n",
    "# Meine XPath Abfragen ...\n",
    "print(d.xpath('/discography/albums/album/title/text()'))\n",
    "print(d.xpath('//album[2]/released/month/text()'))\n",
    "print(d.xpath('//albums/album'))"
   ]
  },
  {
   "cell_type": "code",
   "execution_count": null,
   "metadata": {},
   "outputs": [],
   "source": []
  }
 ],
 "metadata": {
  "kernelspec": {
   "display_name": "Python 3",
   "language": "python",
   "name": "python3"
  },
  "language_info": {
   "codemirror_mode": {
    "name": "ipython",
    "version": 3
   },
   "file_extension": ".py",
   "mimetype": "text/x-python",
   "name": "python",
   "nbconvert_exporter": "python",
   "pygments_lexer": "ipython3",
   "version": "3.6.4"
  }
 },
 "nbformat": 4,
 "nbformat_minor": 2
}
